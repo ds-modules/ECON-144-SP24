{
 "cells": [
  {
   "cell_type": "code",
   "execution_count": null,
   "id": "8c128b8a-51d0-4a71-8419-fb8af5990d7a",
   "metadata": {},
   "outputs": [],
   "source": [
    "pip install otter-grader"
   ]
  },
  {
   "cell_type": "code",
   "execution_count": null,
   "id": "de79c097-cf95-448e-91d5-9aa227ca8774",
   "metadata": {},
   "outputs": [],
   "source": [
    "pip install openpyxl"
   ]
  },
  {
   "cell_type": "code",
   "execution_count": 1,
   "id": "2ea6fa37-697c-4a1c-b4e5-2d6f30c40be3",
   "metadata": {},
   "outputs": [],
   "source": [
    "# Initialize Otter\n",
    "# If you need to install Otter, please uncomment and run the previous cell\n",
    "import otter\n",
    "grader = otter.Notebook(\"ps5.ipynb\")"
   ]
  },
  {
   "cell_type": "code",
   "execution_count": null,
   "id": "bdfd8fe2-51f7-4c00-8da9-d5254224756b",
   "metadata": {},
   "outputs": [],
   "source": [
    "import numpy as np\n",
    "import pandas as pd\n",
    "import statsmodels.api as sm\n",
    "import matplotlib.pyplot as plt\n",
    "from linearmodels.panel import PanelOLS\n",
    "from linearmodels.panel import PooledOLS\n",
    "from linearmodels.iv import IV2SLS\n",
    "from scipy.stats import f\n",
    "from scipy.stats import chi2\n",
    "from scipy.stats import t"
   ]
  },
  {
   "cell_type": "markdown",
   "id": "11356fa5-490d-4b46-a8d7-be687e90b548",
   "metadata": {},
   "source": [
    "# Econ 144 – Problem Set 5\n",
    "\n",
    "In this problem set, you will empirically test the conditional CAPM, conditional and unconditional APT (based on the Fama-French 3-Factor Model), and construct  and evaluate portfolio risk forecasts using both CAPM and APT.\n",
    "\n",
    "Throughout the entire problem set, please feel free to add code and markdown cells as you need them.\n"
   ]
  },
  {
   "cell_type": "markdown",
   "id": "82d4d239-d6e6-407a-981e-c892351b3f02",
   "metadata": {},
   "source": [
    "## Problem 1. Testing the Unconditional Fama-French APT\n",
    "\n",
    "In this problem, you will conduct an empirical test of the (unconditional) Fama-French version of APT. The test is based on monthly return data for twenty-five portfolios over the period 1974 to 2023 (i.e., 50 years of monthly data). Stock listed on the New York Stock Exchange (NYSE), American Stock Exchange (ASE), and the NASDAQ, are allocated to the portfolios based on market capitalization and book-to-market ratio, and are value-weighted within each portfolio. The CRSP value-weighted index (**vwretd**) is used as a proxy for the market portfolio, and the 30-day T-Bill return (**t30ret**) is used for the risk-free return. \n",
    "\n",
    "You will conduct tests for the overall period, two twenty-five year subperiods, and five ten-year subperiods."
   ]
  },
  {
   "cell_type": "code",
   "execution_count": null,
   "id": "3476e36b-3547-48fb-a233-6c6ec53c746f",
   "metadata": {},
   "outputs": [],
   "source": [
    "idxdata = pd.read_excel('monthlyindex1974-2023.xlsx')\n",
    "idxdata.head()"
   ]
  },
  {
   "cell_type": "code",
   "execution_count": null,
   "id": "be31b2a3-038b-44c0-84c0-a1b9d4359c3e",
   "metadata": {},
   "outputs": [],
   "source": [
    "ffmdata = pd.read_excel('ffdata1969-2023.xlsx')\n",
    "ffmdata = ffmdata.loc[ffmdata['caldt'] >= 19740101]\n",
    "ffmdata.head()"
   ]
  },
  {
   "cell_type": "code",
   "execution_count": null,
   "id": "20e624f8-98e3-4a6d-aedd-3147499b1d8f",
   "metadata": {},
   "outputs": [],
   "source": [
    "rawdata = pd.read_excel('ffm_25port1969-2023.xlsx')\n",
    "rawdata = rawdata.loc[rawdata['OBSDATE']>=19740101]\n",
    "rawdata.head()"
   ]
  },
  {
   "cell_type": "code",
   "execution_count": null,
   "id": "f128f939-a4e2-4057-a0af-52fcba4813eb",
   "metadata": {},
   "outputs": [],
   "source": [
    "begdt = np.array([19740101,19840101,19940101,20040101,20140101,19740101,19990101,19740101])\n",
    "enddt = np.array([19831231,19931231,20031231,20131231,20231231,19981231,20231231,20231231])\n",
    "pdnum = np.arange(1, len(begdt)+1, 1, dtype=int)\n",
    "\n",
    "testpd = pd.DataFrame({'pdnum' : pdnum,\n",
    "                       'begdt' : begdt,\n",
    "                       'enddt' : enddt\n",
    "                      })\n",
    "npd = len(testpd)\n",
    "npd"
   ]
  },
  {
   "cell_type": "markdown",
   "id": "519dafc7-89d6-428b-bec8-8570eff23a57",
   "metadata": {},
   "source": [
    "<!-- BEGIN QUESTION -->\n",
    "\n",
    "**Question 1.a.**\n",
    "Using the entire 50-year sample, regress excess returns of each portfolio on the excess (value-weighted) market return and perform tests (at the 1% level of significance) that the intercept is zero. For each portfolio, report the point estimates (of the intercept), $t$-statistics, and whether or not you reject the Fama-French APT.\n",
    "\n",
    "\n",
    "\n",
    "<!--\n",
    "BEGIN QUESTION\n",
    "name: q1_a\n",
    "manual: true\n",
    "-->"
   ]
  },
  {
   "cell_type": "code",
   "execution_count": null,
   "id": "2727a722-c398-4b77-8b77-516c88319fd1",
   "metadata": {},
   "outputs": [],
   "source": []
  },
  {
   "cell_type": "markdown",
   "id": "23da63ab-8577-4c74-ad13-602f06a86fb7",
   "metadata": {},
   "source": [
    "<!-- END QUESTION -->\n",
    "\n",
    "<!-- BEGIN QUESTION -->\n",
    "\n",
    "**Question 1.b.**\n",
    "For each of the two 25 year subperiods, regress excess returns of each portfolio on the excess (value-weighted) market return and perform tests (at the 1% level of significance) that the intercept is zero. For each portfolio, report the point estimates (of the intercept), $t$-statistics, and whether or not you reject the Fama-French APT in each subperiod.\n",
    "\n",
    "\n",
    "\n",
    "<!--\n",
    "BEGIN QUESTION\n",
    "name: q1_b\n",
    "manual: true\n",
    "-->"
   ]
  },
  {
   "cell_type": "code",
   "execution_count": null,
   "id": "5f425a70-632a-456d-9daf-700c336aa173",
   "metadata": {},
   "outputs": [],
   "source": []
  },
  {
   "cell_type": "markdown",
   "id": "8d903d76-293c-4f2a-9c7a-d8d3e24d8bcd",
   "metadata": {},
   "source": [
    "<!-- END QUESTION -->\n",
    "\n",
    "<!-- BEGIN QUESTION -->\n",
    "\n",
    "**Question 1.c.**\n",
    "For the entire 50-year period, each of the 25-year subperiods, and each of the 10-year subperiods, jointly test (at the 1% level of significance) that the intercepts for all ten portfolios are zero using the $F$-test statistic $J_1$. For the overall period and each subperiod, report the $F$-test statistic $J_1$ and their $p$-values, and whether or not you reject Fama-French APT in the overall period and each subperiod.\n",
    "\n",
    "<!--\n",
    "BEGIN QUESTION\n",
    "name: q1_c\n",
    "manual: true\n",
    "-->"
   ]
  },
  {
   "cell_type": "code",
   "execution_count": null,
   "id": "6ca0765a-854a-4a84-b902-a3fd50d00fde",
   "metadata": {},
   "outputs": [],
   "source": []
  },
  {
   "cell_type": "markdown",
   "id": "16dc8aaf-5956-4ce4-a321-ba0d92692c2b",
   "metadata": {},
   "source": [
    "## Problem 2. Testing the Unconditional CAPM and APT in the Cross-Section\n",
    "\n",
    "In this problem, you will use cross-sectional regressions to conduct empirical tests of both the (unconditional) CAPM and the Fama-French version of APT. The test is based on the same portfolio data and market data as in problem 1.\n",
    "\n",
    "Using cross-sectional regressions allows testing of two additional implications of either CAPM or APT (beyond \"the intercept is zero\"):\n",
    "1. **CAPM**: $\\beta$ completely captures the cross-sectional variation of expected returns, **APT**: the factor loadings completely capture the cross-sectional variation of expected returns.\n",
    "2. **CAPM**: the market risk premium is positive, **APT**: the factor risk premia are positive.\n",
    "\n",
    "This testing approach involves two-steps:\n",
    "1. In any given subperiod, use a time-series regression to find the $\\beta$'s (CAPM), or factor loadings (APT), and the variance of the residuals for each portfolio.\n",
    "2. In each period within the subperiod, run a cross-sectional regression of portfolio returns on the the estimated $\\beta$'s (CAPM), or factor loadings (APT), and the residual variances.\n",
    "\n",
    "Using the results of the cross-sectional regressions, you can calculate point estimates, estimate $t$-statistics, and conduct inference as outlined in class.\n"
   ]
  },
  {
   "cell_type": "code",
   "execution_count": null,
   "id": "1de7a557-d113-4bb6-a2c2-1433cee7ffeb",
   "metadata": {},
   "outputs": [],
   "source": [
    "idxdata = pd.read_excel('monthlyindex1974-2023.xlsx')\n",
    "idxdata.head()"
   ]
  },
  {
   "cell_type": "code",
   "execution_count": null,
   "id": "9cf56662-701c-4488-9d0c-c554d91e4383",
   "metadata": {},
   "outputs": [],
   "source": [
    "ffmdata = pd.read_excel('ffdata1969-2023.xlsx')\n",
    "ffmdata = ffmdata.loc[ffmdata['caldt'] >= 19740101]\n",
    "ffmdata.head()"
   ]
  },
  {
   "cell_type": "code",
   "execution_count": null,
   "id": "40866234-90f6-4db4-9c97-112973c89b09",
   "metadata": {},
   "outputs": [],
   "source": [
    "rawdata = pd.read_excel('ffm_25port1969-2023.xlsx')\n",
    "rawdata = rawdata.loc[rawdata['OBSDATE']>=19740101]\n",
    "rawdata.head()"
   ]
  },
  {
   "cell_type": "code",
   "execution_count": null,
   "id": "beff669c-de3b-4370-9a08-bdf94b748580",
   "metadata": {},
   "outputs": [],
   "source": [
    "begdt = np.array([19740101,19840101,19940101,20040101,20140101,19740101,19990101,19740101])\n",
    "enddt = np.array([19831231,19931231,20031231,20131231,20231231,19981231,20231231,20231231])\n",
    "pdnum = np.arange(1, len(begdt)+1, 1, dtype=int)\n",
    "\n",
    "testpd = pd.DataFrame({'pdnum' : pdnum,\n",
    "                       'begdt' : begdt,\n",
    "                       'enddt' : enddt\n",
    "                      })\n",
    "npd = len(testpd)\n",
    "npd"
   ]
  },
  {
   "cell_type": "markdown",
   "id": "3f29cb9b-294e-48d5-ba26-c797a5606a68",
   "metadata": {},
   "source": [
    "<!-- BEGIN QUESTION -->\n",
    "\n",
    "**Question 2.a.**\n",
    "For the overall period (1974-2023), the two twenty-five year subperiods, and the five ten-year subperiods. Use the approach just outlined to test the following three implications of the CAPM:\n",
    "1. The intercept is zero.\n",
    "2. The market risk premium is positive.\n",
    "3. $\\beta$ completely captures the cross-sectional variation of expected returns. In this exercise, you can do this by conducting an individual hypothesis test on the coefficient of residual (i.e., idiosyncratic) variance.\n",
    "\n",
    "What do you conclude?\n",
    "\n",
    "<!--\n",
    "BEGIN QUESTION\n",
    "name: q2_a\n",
    "manual: true\n",
    "-->"
   ]
  },
  {
   "cell_type": "code",
   "execution_count": null,
   "id": "72fecc3d-3caf-4ded-9889-98bfc8f53be4",
   "metadata": {},
   "outputs": [],
   "source": []
  },
  {
   "cell_type": "markdown",
   "id": "3c112e8e-1360-43df-8dec-0aa90ad59b27",
   "metadata": {},
   "source": [
    "<!-- END QUESTION -->\n",
    "    \n",
    "<!-- BEGIN QUESTION -->\n",
    "\n",
    "**Question 2.b.**\n",
    "For the overall period (1974-2023), the two twenty-five year subperiods, and the five ten-year subperiods. Use the approach just outlined to test the following three implications of the Fama-French APT:\n",
    "1. The intercept is zero.\n",
    "2. The factor risk premia are positive.\n",
    "3. The factor loadings completely capture the cross-sectional variation of expected returns. In this exercise, you can do this by conducting an individual hypothesis test on the coefficient of residual (i.e., idiosyncratic) variance.\n",
    "\n",
    "What do you conclude?\n",
    "\n",
    "<!--\n",
    "BEGIN QUESTION\n",
    "name: q2_b\n",
    "manual: true\n",
    "-->"
   ]
  },
  {
   "cell_type": "code",
   "execution_count": null,
   "id": "16c14115-78c0-47c1-8486-b59fa162e644",
   "metadata": {},
   "outputs": [],
   "source": []
  },
  {
   "cell_type": "markdown",
   "id": "c6318b48-3fc7-4074-95cd-f3c49d50cf51",
   "metadata": {},
   "source": [
    "## Panel Data Approach\n",
    "\n",
    "For the next two parts of the problem, instead of running period-by-period cross-sectional regressions (in the second step) you will use all of the data (within any given subperiod) in a single panel data regression using time fixed effects and within entity (i.e., portfolio) clustered standard errors."
   ]
  },
  {
   "cell_type": "markdown",
   "id": "33fc5ddc-370c-4a87-b7e2-511a7b016960",
   "metadata": {},
   "source": [
    "<!-- END QUESTION -->\n",
    "    \n",
    "<!-- BEGIN QUESTION -->\n",
    "\n",
    "**Question 2.c.**\n",
    "For the overall period (1974-2023), the two twenty-five year subperiods, and the five ten-year subperiods. Use the approach just outlined to test the following three implications of the CAPM:\n",
    "1. The intercept is zero.\n",
    "2. The market risk premium is positive.\n",
    "3. $\\beta$ completely captures the cross-sectional variation of expected returns. In this exercise, you can do this by conducting an individual hypothesis test on the coefficient of residual (i.e., idiosyncratic) variance.\n",
    "\n",
    "What do you conclude? Which approach do you prefer (i.e., period-by-period estimations or panel data)? Why?\n",
    "\n",
    "<!--\n",
    "BEGIN QUESTION\n",
    "name: q2_c\n",
    "manual: true\n",
    "-->"
   ]
  },
  {
   "cell_type": "code",
   "execution_count": null,
   "id": "892249a0-b4ab-4a52-8241-dadc221db1d0",
   "metadata": {},
   "outputs": [],
   "source": []
  },
  {
   "cell_type": "markdown",
   "id": "a7342508-02df-4a36-8fc8-0f5d0f216b1a",
   "metadata": {},
   "source": [
    "<!-- END QUESTION -->\n",
    "    \n",
    "<!-- BEGIN QUESTION -->\n",
    "\n",
    "**Question 2.d.**\n",
    "For the overall period (1974-2023), the two twenty-five year subperiods, and the five ten-year subperiods. Use the approach just outlined to test the following three implications of the Fama-French APT:\n",
    "1. The intercept is zero.\n",
    "2. The factor risk premia are positive.\n",
    "3. The factor loadings completely capture the cross-sectional variation of expected returns. In this exercise, you can do this by conducting an individual hypothesis test on the coefficient of residual (i.e., idiosyncratic) variance.\n",
    "\n",
    "What do you conclude? Which approach do you prefer (i.e., period-by-period estimations or panel data)? Why?\n",
    "\n",
    "<!--\n",
    "BEGIN QUESTION\n",
    "name: q2_d\n",
    "manual: true\n",
    "-->"
   ]
  },
  {
   "cell_type": "code",
   "execution_count": null,
   "id": "559a56bc-77cd-4ffa-a3bc-fa895af947d6",
   "metadata": {},
   "outputs": [],
   "source": []
  },
  {
   "cell_type": "markdown",
   "id": "81eaed3f-b027-4140-97c1-3e4b97d7787e",
   "metadata": {},
   "source": [
    "## Problem 3. Testing the Conditional CAPM and APT in the Cross-Section\n",
    "\n",
    "In this problem, you will use cross-sectional regressions to conduct empirical tests of both the **conditional** CAPM and the Fama-French version of APT. The test is based on monthly return data for 100 portfolios over the period 1974 to 2023 (i.e., 50 years of monthly data). Stock listed on the New York Stock Exchange (NYSE), American Stock Exchange (ASE), and the NASDAQ, are allocated to the portfolios based on market capitalization and book-to-markte ratio, and are value-weighted within each portfolio. The CRSP value-weighted index (**vwretd**) is used as a proxy for the market portfolio, and the 30-day T-Bill return (**t30ret**) is used for the risk-free return.\n",
    "\n",
    "Using cross-sectional regressions allows testing of two additional implications of either CAPM or APT (beyond \"the intercept is zero\"):\n",
    "1. **CAPM**: $\\beta$ completely captures the cross-sectional variation of expected returns, **APT**: the factor loadings completely capture the cross-sectional variation of expected returns.\n",
    "2. **CAPM**: the market risk premium is positive, **APT**: the factor risk premia are positive.\n",
    "\n",
    "This testing approach involves two-steps:\n",
    "1. In any given period $t$, use a time-series regression to find the $\\beta$'s (CAPM), or factor loadings (APT), and the variance of the residuals for each portfolio. The time-series regression is done using a 60-month rolling window from time $t-60$ to time $t-1$. **This step has already been done for you.**\n",
    "2. In each period within a subperiod, run a cross-sectional regression of portfolio returns on the the estimated $\\beta$'s (CAPM), or factor loadings (APT), and the residual variances.\n",
    "\n",
    "Using the results of the cross-sectional regressions, you can calculate point estimates, estimate $t$-statistics, and conduct inference as outlined in class."
   ]
  },
  {
   "cell_type": "code",
   "execution_count": null,
   "id": "33ed591e-f567-4094-9a1e-31055ff9c353",
   "metadata": {},
   "outputs": [],
   "source": [
    "capmdata = pd.read_csv('monthly_ffm100port_beta1974-2023.csv')\n",
    "capmdata = capmdata.drop('Unnamed: 0', axis=1)\n",
    "capmdata.head()"
   ]
  },
  {
   "cell_type": "code",
   "execution_count": null,
   "id": "ab20d621-e2e9-4af0-b3f8-78f37c082675",
   "metadata": {},
   "outputs": [],
   "source": [
    "ffmdata = pd.read_csv('monthly_ffm100port_ffm1974-2023.csv')\n",
    "ffmdata = ffmdata.drop('Unnamed: 0', axis=1)\n",
    "ffmdata.head()"
   ]
  },
  {
   "cell_type": "markdown",
   "id": "0202e8fc-b719-49b1-a39d-ab74533c4f32",
   "metadata": {},
   "source": [
    "<!-- BEGIN QUESTION -->\n",
    "\n",
    "**Question 3.a.**\n",
    "For the overall period (1974-2023), the two twenty-five year subperiods, and the five ten-year subperiods. Use the approach just outlined to test the following three implications of the CAPM:\n",
    "1. The intercept is zero.\n",
    "2. The market risk premium is positive.\n",
    "3. $\\beta$ completely captures the cross-sectional variation of expected returns. In this exercise, you can do this by conducting an individual hypothesis test on the coefficient of residual (i.e., idiosyncratic) variance.\n",
    "\n",
    "What do you conclude?\n",
    "\n",
    "<!--\n",
    "BEGIN QUESTION\n",
    "name: q3_a\n",
    "manual: true\n",
    "-->"
   ]
  },
  {
   "cell_type": "code",
   "execution_count": null,
   "id": "08a42e63-a614-467d-bf80-3d45b3226493",
   "metadata": {},
   "outputs": [],
   "source": []
  },
  {
   "cell_type": "markdown",
   "id": "de90efcd-4077-42f9-bee6-fa4e98eeb0c8",
   "metadata": {},
   "source": [
    "<!-- END QUESTION -->\n",
    "    \n",
    "<!-- BEGIN QUESTION -->\n",
    "\n",
    "**Question 3.b.**\n",
    "For the overall period (1974-2023), the two twenty-five year subperiods, and the five ten-year subperiods. Use the approach just outlined to test the following three implications of the Fama-French APT:\n",
    "1. The intercept is zero.\n",
    "2. The factor risk premia are positive.\n",
    "3. The factor loadings completely capture the cross-sectional variation of expected returns. In this exercise, you can do this by conducting an individual hypothesis test on the coefficient of residual (i.e., idiosyncratic) variance.\n",
    "\n",
    "What do you conclude?\n",
    "\n",
    "<!--\n",
    "BEGIN QUESTION\n",
    "name: q3_b\n",
    "manual: true\n",
    "-->"
   ]
  },
  {
   "cell_type": "code",
   "execution_count": null,
   "id": "73293833-ecfd-4191-8d25-57f0730faebc",
   "metadata": {},
   "outputs": [],
   "source": []
  },
  {
   "cell_type": "markdown",
   "id": "760148cc-9e61-4a05-bcc2-c4eef90ceccb",
   "metadata": {},
   "source": [
    "## Panel Data Approach\n",
    "\n",
    "For the next two parts of the problem, instead of running period-by-period cross-sectional regressions (in the second step) you will use all of the data (within any given subperiod) in a single panel data regression using time fixed effects and within entity (i.e., portfolio) clustered standard errors."
   ]
  },
  {
   "cell_type": "markdown",
   "id": "596ccf38-cf8b-404a-b84b-66beb89a75d2",
   "metadata": {},
   "source": [
    "<!-- END QUESTION -->\n",
    "    \n",
    "<!-- BEGIN QUESTION -->\n",
    "\n",
    "**Question 3.c.**\n",
    "For the overall period (1974-2023), the two twenty-five year subperiods, and the five ten-year subperiods. Use the approach just outlined to test the following three implications of the CAPM:\n",
    "1. The intercept is zero.\n",
    "2. The market risk premium is positive.\n",
    "3. $\\beta$ completely captures the cross-sectional variation of expected returns. In this exercise, you can do this by conducting an individual hypothesis test on the coefficient of residual (i.e., idiosyncratic) variance.\n",
    "\n",
    "What do you conclude? Which approach do you prefer (i.e., period-by-period estimations or panel data)? Why?\n",
    "\n",
    "<!--\n",
    "BEGIN QUESTION\n",
    "name: q3_c\n",
    "manual: true\n",
    "-->"
   ]
  },
  {
   "cell_type": "code",
   "execution_count": null,
   "id": "a9624864-6b02-41e3-b0c3-4d23037682fb",
   "metadata": {},
   "outputs": [],
   "source": []
  },
  {
   "cell_type": "markdown",
   "id": "8b817392-6505-4cec-bfe9-1af9bf752e25",
   "metadata": {},
   "source": [
    "<!-- END QUESTION -->\n",
    "    \n",
    "<!-- BEGIN QUESTION -->\n",
    "\n",
    "**Question 3.d.**\n",
    "For the overall period (1974-2023), the two twenty-five year subperiods, and the five ten-year subperiods. Use the approach just outlined to test the following three implications of the Fama-French APT:\n",
    "1. The intercept is zero.\n",
    "2. The factor risk premia are positive.\n",
    "3. The factor loadings completely capture the cross-sectional variation of expected returns. In this exercise, you can do this by conducting an individual hypothesis test on the coefficient of residual (i.e., idiosyncratic) variance.\n",
    "\n",
    "What do you conclude? Which approach do you prefer (i.e., period-by-period estimations or panel data)? Why?\n",
    "\n",
    "<!--\n",
    "BEGIN QUESTION\n",
    "name: q3_d\n",
    "manual: true\n",
    "-->"
   ]
  },
  {
   "cell_type": "code",
   "execution_count": null,
   "id": "ba7fd49f-6994-4196-83c3-054de169c2ec",
   "metadata": {},
   "outputs": [],
   "source": []
  },
  {
   "cell_type": "markdown",
   "id": "8c4505e7-c19b-4073-894e-0604632d3bec",
   "metadata": {},
   "source": [
    "## Problem 4. Constructing and Evaluating Portfolio Risk Forecasts\n",
    "\n",
    "In this problem, you will construct and evaluate portfolio risk forecasts using both the CAPM and the Fama-French version of APT as the underlying factor models.\n"
   ]
  },
  {
   "cell_type": "code",
   "execution_count": null,
   "id": "35d0260b-ca9c-45d5-aae0-205752e13839",
   "metadata": {},
   "outputs": [],
   "source": [
    "idxdata = pd.read_excel('ffdata1969-2023.xlsx')\n",
    "idxdata.head(25)"
   ]
  },
  {
   "cell_type": "code",
   "execution_count": null,
   "id": "7f5ece8e-3899-47aa-831e-13dc09d70d8c",
   "metadata": {},
   "outputs": [],
   "source": [
    "ffmodel = False\n",
    "numport = 100 # 25 or 100\n",
    "\n",
    "if ffmodel:\n",
    "    rawdata = pd.read_csv('monthly_ffm' + str(numport) + 'port_ffm1974-2023.csv')\n",
    "else:\n",
    "    rawdata = pd.read_csv('monthly_ffm' + str(numport) + 'port_beta1974-2023.csv')\n",
    "rawdata = rawdata.drop('Unnamed: 0', axis=1)\n",
    "rawdata.info()"
   ]
  },
  {
   "cell_type": "code",
   "execution_count": null,
   "id": "8f5ba888-f763-4d78-804f-a4792398cae7",
   "metadata": {},
   "outputs": [],
   "source": [
    "begdt = np.array([19740101,19840101,19940101,20040101,20140101,19740101,19990101,19740101])\n",
    "enddt = np.array([19831231,19931231,20031231,20131231,20231231,19981231,20231231,20231231])\n",
    "pdnum = np.arange(1, len(begdt)+1, 1, dtype=int)\n",
    "\n",
    "testpd = pd.DataFrame({'pdnum' : pdnum,\n",
    "                       'begdt' : begdt,\n",
    "                       'enddt' : enddt\n",
    "                      })\n",
    "npd = len(testpd)\n",
    "npd"
   ]
  },
  {
   "cell_type": "markdown",
   "id": "5b223418-270c-407c-a90b-63a0e0b6023b",
   "metadata": {},
   "source": [
    "<!-- BEGIN QUESTION -->\n",
    "\n",
    "**Question 4.a.**\n",
    "We first work with CAPM as the underlying factor model. Hence, in this case we have a single factor model. Use the half-life approach (with $h$ = 3, 6, 12, $\\infty$) outlined in class to calculate weighted means and covariance matrices. \n",
    "\n",
    "For each date from 19740131 through 20231231:\n",
    "1. Use **all** of the index data **strictly prior** to that date and a given half-life to calculate the weighted mean and variance of the factor returns (i.e., the market excess return **vwrexc**).\n",
    "2. Form an equal weighted portfolio of the (25 or 100) portfolios in the data set and using your results from step 1, estimate the variance and standard deviation (volatility). This is your portfolio risk forecast for the date (constructed using data observed **strictly prior** to that date).\n",
    "3. Calculate the realized portfolio return and standardized return (realized return divided by forecast volatility). \n",
    "\n",
    "For the overall period (1974-2023), the two twenty-five year subperiods, and the five ten-year subperiods, estimate the bias statistic (standard deviation of the standardized realized returns) and compare it to 1. Recall that a bias statistic of 1 reflects an overall **directionally unbiased** risk forecast. If the bias statistic is greater than 1, this means you are systematically underestimating the portfolio risk, and a bias statistic less than 1 means you are systematically overestimating the portfolio risk. Based on your results, which half-life to gives the \"best\" risk forecasts overall? Explain.\n",
    "\n",
    "For the overall period (1974-2023), and for each half-life, plot the bias statistics, along with their approximate 95% confidence intervals. Comment on the plots.\n",
    "\n",
    "<!--\n",
    "BEGIN QUESTION\n",
    "name: q4_a\n",
    "manual: true\n",
    "-->"
   ]
  },
  {
   "cell_type": "code",
   "execution_count": null,
   "id": "c2b54ef0-0b91-46c1-b8cf-bf590d6ad79b",
   "metadata": {},
   "outputs": [],
   "source": []
  },
  {
   "cell_type": "markdown",
   "id": "070ef871-9af5-4dc6-945e-d60406bbbd05",
   "metadata": {},
   "source": [
    "<!-- END QUESTION -->\n",
    "\n",
    "<!-- BEGIN QUESTION -->\n",
    "\n",
    "**Question 4.b.**\n",
    "We can evaulate risk forecsts for **accuracy** via a liner regression method suggested by Mincer and Zarnowitz (1969, \"The Evaluation of Economic Forecasts\"). It is posited that realized portfolio return variance can be desricbed by the following model: $$ \\tilde{\\sigma}_t^2 = a + b \\hat{\\sigma}_t^2 + \\epsilon_t $$ where $\\hat{\\sigma}_t^2$ (right-hand side) is forecast return variance and $\\tilde{\\sigma}_t^2$ (left-hand side) is realized return variance. However, realized return varaince is not observable **ex post**. Therefore, realized return variance is **proxied** by the squared (demeaned) realized return at time $t$. This is an unbiased, but noisy, proxy for the \"true\" variance at time $t$. Assuming this model of realized return variance is correct, the joint null hypothesis (that our forecast is accurate) is $H_0: a= 0, b=1$.\n",
    "\n",
    "For the overall period (1974-2023), the two twenty-five year subperiods, and the five ten-year subperiods, formally test this null hypothesis (at the 5% level). Based on your results, which half-life to gives the \"best\" risk forecasts overall?\n",
    "\n",
    "For the overall period (1974-2023), and for each half-life, plot the slope coefficient estimates, along with their approximate 95% confidence intervals. Comment on the plots.\n",
    "\n",
    "<!--\n",
    "BEGIN QUESTION\n",
    "name: q4_b\n",
    "manual: true\n",
    "-->"
   ]
  },
  {
   "cell_type": "code",
   "execution_count": null,
   "id": "92212da2-3389-443d-8e0d-e2051c83d62a",
   "metadata": {},
   "outputs": [],
   "source": []
  },
  {
   "cell_type": "markdown",
   "id": "e75afdd1-bf30-4080-b94b-5417ad4a0039",
   "metadata": {},
   "source": [
    "<!-- END QUESTION -->\n",
    "\n",
    "<!-- BEGIN QUESTION -->\n",
    "\n",
    "**Question 4.c.**\n",
    "Run the same analysis as in **4.a**, using the Fama-French version of APT as the underlying factor model.\n",
    "\n",
    "Based on these results, which model (CAPM or Fama-French) do you prefer for risk forecasting? Why?\n",
    "\n",
    "<!--\n",
    "BEGIN QUESTION\n",
    "name: q4_c\n",
    "manual: true\n",
    "-->"
   ]
  },
  {
   "cell_type": "code",
   "execution_count": null,
   "id": "da059119-e2f9-41e3-b599-b04cc8eb7aea",
   "metadata": {},
   "outputs": [],
   "source": []
  },
  {
   "cell_type": "markdown",
   "id": "a3a54c16-fa5c-4984-b1c3-54507c08024b",
   "metadata": {},
   "source": [
    "<!-- END QUESTION -->\n",
    "\n",
    "<!-- BEGIN QUESTION -->\n",
    "\n",
    "**Question 4.d.**\n",
    "Run the same analysis as in **4.b**, using the Fama-French version of APT as the underlying factor model.\n",
    "\n",
    "Based on these results, which model (CAPM or Fama-French) do you prefer for risk forecasting? Why?\n",
    "\n",
    "<!--\n",
    "BEGIN QUESTION\n",
    "name: q4_d\n",
    "manual: true\n",
    "-->"
   ]
  },
  {
   "cell_type": "code",
   "execution_count": null,
   "id": "96a2e390-2fbd-4b7a-9c1e-dc0de1b776b1",
   "metadata": {},
   "outputs": [],
   "source": []
  },
  {
   "cell_type": "markdown",
   "id": "820a0d2e-0d46-4d03-8f8a-9b3f182691ad",
   "metadata": {},
   "source": [
    "## Submission\n",
    "\n",
    "Make sure you have run all cells in your notebook in order before running the cell below, so that all images/graphs appear in the output. The cell below will generate a pdf file for you to submit. **Please save before exporting!**"
   ]
  },
  {
   "cell_type": "code",
   "execution_count": 3,
   "id": "847fea59-15af-4084-be93-3b252b169867",
   "metadata": {},
   "outputs": [
    {
     "data": {
      "text/html": [
       "\n",
       "            <p>Your file has been exported. Download it by right-clicking\n",
       "            <a href=\"ps5.pdf\" target=\"_blank\">here</a> and selecting <strong>Save Link As</strong>.\n",
       "            "
      ],
      "text/plain": [
       "<IPython.core.display.HTML object>"
      ]
     },
     "metadata": {},
     "output_type": "display_data"
    }
   ],
   "source": [
    "# Save your notebook first, then run this cell to export your submission.\n",
    "grader.to_pdf(pagebreaks=False, display_link=True)"
   ]
  },
  {
   "cell_type": "code",
   "execution_count": null,
   "id": "3523e8e3-e199-40be-a3dd-b7ae1af7bd1b",
   "metadata": {},
   "outputs": [],
   "source": []
  }
 ],
 "metadata": {
  "kernelspec": {
   "display_name": "Python 3 (ipykernel)",
   "language": "python",
   "name": "python3"
  },
  "language_info": {
   "codemirror_mode": {
    "name": "ipython",
    "version": 3
   },
   "file_extension": ".py",
   "mimetype": "text/x-python",
   "name": "python",
   "nbconvert_exporter": "python",
   "pygments_lexer": "ipython3",
   "version": "3.9.15"
  }
 },
 "nbformat": 4,
 "nbformat_minor": 5
}
