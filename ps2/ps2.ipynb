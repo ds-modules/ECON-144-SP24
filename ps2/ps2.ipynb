{
 "cells": [
  {
   "cell_type": "code",
   "execution_count": null,
   "id": "f5a024b3-6fe5-4425-bc9e-1e1112eca1a9",
   "metadata": {},
   "outputs": [],
   "source": [
    "# pip install otter-grader"
   ]
  },
  {
   "cell_type": "code",
   "execution_count": null,
   "id": "db1ad305-0278-425d-9954-8b2d157b689f",
   "metadata": {},
   "outputs": [],
   "source": [
    "pip install openpyxl"
   ]
  },
  {
   "cell_type": "code",
   "execution_count": null,
   "id": "66e8b941-76a4-47ee-8e0f-1745301e3ec4",
   "metadata": {},
   "outputs": [],
   "source": [
    "# Initialize Otter\n",
    "# If you need to install Otter, please uncomment and run the previous cell\n",
    "import otter\n",
    "grader = otter.Notebook(\"ps2.ipynb\")"
   ]
  },
  {
   "cell_type": "markdown",
   "id": "0d4254eb-ca92-4114-bc75-d42c7719dbd3",
   "metadata": {},
   "source": [
    "# Econ 144 – Problem Set 2"
   ]
  },
  {
   "cell_type": "code",
   "execution_count": null,
   "id": "3b90ccbe-b5c6-404b-a7b4-c2a4aa9ca628",
   "metadata": {
    "cell_id": "00004-a20aef2c-9737-44de-8887-455deab1c99b",
    "deepnote_cell_type": "code",
    "deepnote_to_be_reexecuted": false,
    "execution_millis": 1,
    "execution_start": 1613177776335,
    "source_hash": "3e54bd81"
   },
   "outputs": [],
   "source": [
    "import numpy as np\n",
    "import pandas as pd\n",
    "import statsmodels.api as sm\n",
    "import matplotlib.pyplot as plt"
   ]
  },
  {
   "cell_type": "markdown",
   "id": "6f8e3651-949d-4477-a735-8c26c2713f96",
   "metadata": {},
   "source": [
    "## Problem 1. Efficient Markets Hypothesis I\n",
    "\n",
    "In this problem, we make a first attempt to answer the question of whether the stock market efficiently uses information in valuing stocks. \n",
    "\n",
    "The Efficient Markets Hypothesis (EMH) maintains that current stock prices fully reflect all available information. An implication of this hypothesis is that returns in the current period should not be systematically related to information known in earlier periods. Otherwise, we could use this information to predict stock returns, thus violating the EMH. As an analyst at an investment management company, you have been tasked with examining the validity of the EMH.\n",
    "\n",
    "You have data on the universe of CRSP common stocks (your \"estimation universe\"). The data includes monthly observations of returns and several of the financial ratios most commonly used by academic researchers. Financial ratios can be grouped into seven broad categories: *Capitalization, Efficiency, Financial Soundness/Solvency, Liquidity, Profitability, Solvency, Valuation*. Your dataset includes one financial ratio from each of these categories:\n",
    "\n",
    "1. **totdebt_invcap** (total debt/invested capital):  total tebt (long-term and current) as a fraction of invested capital (category: capitalization)\n",
    "2. **sale_invcap** (sales/invested capital): sales per dollar of invested capital (category: efficiency)\n",
    "3. **fcf_ocf** (free cash flow/operating cash flow): free cash flow as a fraction of operating cash flow, where free cash flow is defined as the difference between operating cash flow and capital expenditures (category: financial soundness)\n",
    "4. **cash_ratio** (cash ratio): cash and short-term investments as a fraction of current liabilities (category: liquidity)\n",
    "5. **roe** (return on equity): net income as a fraction of average book equity based on most recent two periods, where book equity is defined as the sum of total parent stockholders' equity and deferred taxes and investment tax credit (category: profitability)\n",
    "6. **de_ratio** (total debt/equity): total liabilities to shareholders’ equity (common and preferred) (category: solvency)\n",
    "7. **bm** (book/market): book value of equity as a fraction of market value of equity (category: valuation)\n",
    "\n",
    "Other variables in the dataset:\n",
    "\n",
    "1. **permno**: CRSP company identifier\n",
    "2. **date** : observation date\n",
    "3. **ticker**: company ticker\n",
    "4. **price**: stock price\n",
    "5. **return**: net simple return from end of previous month to end of observation month\n",
    "6. **vwretd**: return of CRSP value-weighted index (including dividends)\n",
    "7. **vwretx**: return of CRSP value-weighted index (excluding dividends)\n",
    "\n",
    "The data for this exercise is in the file `finratios.xlsx`. The file contains 13 monthly observations for the stocks in the estimation universe from October 2022 through October 2023. \n"
   ]
  },
  {
   "cell_type": "code",
   "execution_count": null,
   "id": "6ade11b4-94be-405b-867c-7cd3179009f9",
   "metadata": {},
   "outputs": [],
   "source": [
    "rawdata = pd.read_excel('finratios.xlsx')\n",
    "rawdata.head()"
   ]
  },
  {
   "cell_type": "markdown",
   "id": "c76781bb-a87e-46f0-982e-c19abdc8ddde",
   "metadata": {},
   "source": [
    "For this problem, we will work with a single cross section (October 2023) of the data that contains a subset of the financial ratios in the dataset. We need to shift the financial ratios by a month so that we will be regressing month $t$ returns on month $t-1$ ratios, i.e., we would like to determine whether we can use information known at month $t-1$ to predict returns between month $t-1$ and month $t$."
   ]
  },
  {
   "cell_type": "code",
   "execution_count": null,
   "id": "ef3a6db6-f70f-4f8d-af80-268c06050fd5",
   "metadata": {},
   "outputs": [],
   "source": [
    "data = pd.DataFrame({'permno'  : rawdata['permno'],\n",
    "                     'retdate' : rawdata['date'],\n",
    "                     'secret'  : rawdata['secret'],\n",
    "                     'dkr'     : rawdata['totdebt_invcap'].shift(1),\n",
    "                     'bm'      : rawdata['bm'].shift(1),\n",
    "                     'sale'    : rawdata['sale_invcap'].shift(1),\n",
    "                     'de'      : rawdata['de_ratio'].shift(1)\n",
    "                   })\n",
    "data = data.dropna(subset=['secret','dkr','bm','sale','de']) # drop rows with NaN values\n",
    "data = data.loc[data['retdate'] == 20221031] # select cross section\n",
    "data.describe()"
   ]
  },
  {
   "cell_type": "markdown",
   "id": "7f0a99ac-5228-4762-9f0e-2722ab7d63c5",
   "metadata": {},
   "source": [
    "<!-- BEGIN QUESTION -->\n",
    "\n",
    "**Question 1.a.**\n",
    "Plot a scatter diagram of stock returns (`secret`) against the (lagged) total debt/invested capital ratio (`dkr`). Put the stock returns on the vertical axis and `dkr` on the horizontal axis. What do you notice? \n",
    "\n",
    "*Hint: Think about OLS assumption (A3).*\n",
    "\n",
    "\n",
    "\n",
    "<!--\n",
    "BEGIN QUESTION\n",
    "name: q1_a\n",
    "manual: true\n",
    "-->"
   ]
  },
  {
   "cell_type": "code",
   "execution_count": null,
   "id": "13e10cff-3ee2-4977-8d97-06518ca6f4b7",
   "metadata": {},
   "outputs": [],
   "source": []
  },
  {
   "cell_type": "markdown",
   "id": "4c5f1d80-8653-43ac-9033-fcba7653c0e9",
   "metadata": {},
   "source": [
    "_Type your answer here, replacing this text._"
   ]
  },
  {
   "cell_type": "markdown",
   "id": "e178e94c-2900-4b37-a3af-75b8702a90ba",
   "metadata": {},
   "source": [
    "<!-- END QUESTION -->\n",
    "\n",
    "<!-- BEGIN QUESTION -->\n",
    "\n",
    "**Question 1.b.**\n",
    "Regress `secret` on `dkr` and a constant. Based on the regression results, what is your initial evaluation of the EMH with respect to the total debt/invested capital ratio?\n",
    "    \n",
    "<!--\n",
    "BEGIN QUESTION\n",
    "name: q1_b\n",
    "manual: true\n",
    "-->"
   ]
  },
  {
   "cell_type": "code",
   "execution_count": null,
   "id": "d7fda83c-6ac8-4e20-b0b2-dc73e2c56baf",
   "metadata": {},
   "outputs": [],
   "source": []
  },
  {
   "cell_type": "markdown",
   "id": "21cc3d90-5b0f-4d2b-8341-78d94b840baa",
   "metadata": {},
   "source": [
    "_Type your answer here, replacing this text._"
   ]
  },
  {
   "cell_type": "markdown",
   "id": "a1d968c4-b570-4147-bbc8-2ffa04d6290a",
   "metadata": {},
   "source": [
    "<!-- END QUESTION -->\n",
    "\n",
    "<!-- BEGIN QUESTION -->\n",
    "\n",
    "**Question 1.c.**\n",
    "Run the following code and recreate the scatter plot from the previous question. Describe what this code is doing. Comment on the differences between this scatter plot and the previous scatter plot. How many observations where dropped by running the provided code? Do you feel this is a significant number? \n",
    "\n",
    "<!--\n",
    "BEGIN QUESTION\n",
    "name: q1_c\n",
    "manual: true\n",
    "-->"
   ]
  },
  {
   "cell_type": "code",
   "execution_count": null,
   "id": "59107ea7-bdcd-40a8-bee2-1a4edef661ba",
   "metadata": {},
   "outputs": [],
   "source": [
    "data = data.loc[(data['secret'] <= np.quantile(data['secret'], 0.995)) & \\\n",
    "                (data['secret'] >= np.quantile(data['secret'], 0.005)) & \\\n",
    "                (data['dkr']    <= np.quantile(data['dkr'], 0.995)) & \\\n",
    "                (data['dkr']    >= np.quantile(data['dkr'], 0.005)) & \\\n",
    "                (data['sale']   <= np.quantile(data['sale'], 0.995)) & \\\n",
    "                (data['sale']   >= np.quantile(data['sale'], 0.005)) & \\\n",
    "                (data['bm']     <= np.quantile(data['bm'], 0.995)) & \\\n",
    "                (data['bm']     >= np.quantile(data['bm'], 0.005)) & \\\n",
    "                (data['de']     <= np.quantile(data['de'], 0.995)) & \\\n",
    "                (data['de']     >= np.quantile(data['de'], 0.005))]\n",
    "data.describe()"
   ]
  },
  {
   "cell_type": "code",
   "execution_count": null,
   "id": "0c87c314-0b42-4f80-bd66-2ea70d2889d5",
   "metadata": {},
   "outputs": [],
   "source": []
  },
  {
   "cell_type": "markdown",
   "id": "1188191e-a818-4810-ac70-0f1755840272",
   "metadata": {},
   "source": [
    "_Type your answer here, replacing this text._"
   ]
  },
  {
   "cell_type": "markdown",
   "id": "ce572e0b-c0f2-40e8-9878-b6e52cfff488",
   "metadata": {},
   "source": [
    "<!-- END QUESTION -->\n",
    "\n",
    "<!-- BEGIN QUESTION -->\n",
    "\n",
    "**Question 1.d.**\n",
    "Re-regress `secret` on `dkr` and a constant. Comment on the differences in the coefficient estimates and the standard errors between this regression and the previous regression -- do they make sense, given the visual evidence? Based on the regression results, has your initial evaluation of the EMH (with respect to total the debt/invested capital ratio) changed?\n",
    "    \n",
    "<!--\n",
    "BEGIN QUESTION\n",
    "name: q1_d\n",
    "manual: true\n",
    "-->"
   ]
  },
  {
   "cell_type": "code",
   "execution_count": null,
   "id": "5ebc8c45-7b6f-4b5e-b700-518aff56c337",
   "metadata": {},
   "outputs": [],
   "source": []
  },
  {
   "cell_type": "markdown",
   "id": "d4facb37-24ac-436a-ba4d-abbcb0afcc62",
   "metadata": {},
   "source": [
    "_Type your answer here, replacing this text._"
   ]
  },
  {
   "cell_type": "markdown",
   "id": "4cf301e1-396e-4c45-93c8-5a7031bcd082",
   "metadata": {},
   "source": [
    "<!-- END QUESTION -->\n",
    "\n",
    "<!-- BEGIN QUESTION -->\n",
    "\n",
    "**Question 1.e.**\n",
    "Now regress `secret` on `dkr`, the sales/invested capital ratio (`sale`), and a constant. Based on the resuls of this regression and the previous regression, what is the sign of the correlation between `dkr` and `sale`? Alternatively, is there not enough information to determine the sign of the correlation?\n",
    "    \n",
    "<!--\n",
    "BEGIN QUESTION\n",
    "name: q1_e\n",
    "manual: true\n",
    "-->"
   ]
  },
  {
   "cell_type": "markdown",
   "id": "c33f5662-c2ef-412c-b9d5-477580814edc",
   "metadata": {},
   "source": [
    "_Type your answer here, replacing this text._"
   ]
  },
  {
   "cell_type": "code",
   "execution_count": null,
   "id": "06af68b1-97b5-40b5-9643-15c80f9035ff",
   "metadata": {},
   "outputs": [],
   "source": []
  },
  {
   "cell_type": "markdown",
   "id": "3199e91c-6d8a-4562-8f71-b6c932d8a5dc",
   "metadata": {},
   "source": [
    "<!-- END QUESTION -->\n",
    "\n",
    "<!-- BEGIN QUESTION -->\n",
    "\n",
    "**Question 1.f.**\n",
    "Based on the regression results, evaluate the EMH (with respect to the total debt/invested capital and the sales/invested capital ratio).\n",
    "    \n",
    "<!--\n",
    "BEGIN QUESTION\n",
    "name: q1_f\n",
    "manual: true\n",
    "-->"
   ]
  },
  {
   "cell_type": "markdown",
   "id": "54cd0660-2923-47eb-8770-37b18107a743",
   "metadata": {},
   "source": [
    "_Type your answer here, replacing this text._"
   ]
  },
  {
   "cell_type": "markdown",
   "id": "5e896092-3334-4a72-a142-d9c5e2c5df60",
   "metadata": {},
   "source": [
    "<!-- END QUESTION -->\n",
    "\n",
    "<!-- BEGIN QUESTION -->\n",
    "\n",
    "**Question 1.g.**\n",
    "Finally, regress `secret` on `dkr`, `sale`, the book/market ratio (`bm`), the total debt/equity ratio (`de`), and a constant. \n",
    "\n",
    "Based on the regression results, evaluate the EMH (with respect to all four ratios).\n",
    "\n",
    "<!--\n",
    "BEGIN QUESTION\n",
    "name: q1_g\n",
    "manual: true\n",
    "-->"
   ]
  },
  {
   "cell_type": "code",
   "execution_count": null,
   "id": "f41493c9-eb74-4710-a79c-791fdc197189",
   "metadata": {},
   "outputs": [],
   "source": []
  },
  {
   "cell_type": "markdown",
   "id": "320bb27a-7707-4a65-a8e0-2e318b06c788",
   "metadata": {},
   "source": [
    "_Type your answer here, replacing this text._"
   ]
  },
  {
   "cell_type": "markdown",
   "id": "b20bf867-d461-439d-ae78-66b6295aa174",
   "metadata": {},
   "source": [
    "<!-- END QUESTION -->\n",
    "\n",
    "<!-- BEGIN QUESTION -->\n",
    "\n",
    "**Question 1.h.**\n",
    "Set up and evaluate (i.e., run) a formal hypothesis test to support your conclusion in the previous question. What is your null hypothesis? Do you reject your null hypothesis?\n",
    "\n",
    "<!--\n",
    "BEGIN QUESTION\n",
    "name: q1_h\n",
    "manual: true\n",
    "-->"
   ]
  },
  {
   "cell_type": "code",
   "execution_count": null,
   "id": "de3cc448-0cae-4899-b0ff-309574bbb66d",
   "metadata": {},
   "outputs": [],
   "source": []
  },
  {
   "cell_type": "markdown",
   "id": "7a4598ac-f740-42a0-a235-886a2d6fa54e",
   "metadata": {},
   "source": [
    "_Type your answer here, replacing this text._"
   ]
  },
  {
   "cell_type": "markdown",
   "id": "dccb3cc9-3229-4cb7-a61f-e3cec691a72d",
   "metadata": {},
   "source": [
    "## Problem 2. Efficient Markets Hypothesis II\n",
    "\n",
    "In this problem, we continue with our analysis of the EMH using the dataset from problem 1. This time, however, we will make use of the entire datset, not just a single cross section.\n"
   ]
  },
  {
   "cell_type": "code",
   "execution_count": null,
   "id": "76ed2c14-be4d-417b-b6de-90e0544ee160",
   "metadata": {},
   "outputs": [],
   "source": [
    "from linearmodels.panel import PanelOLS\n",
    "from linearmodels.panel import PooledOLS"
   ]
  },
  {
   "cell_type": "code",
   "execution_count": null,
   "id": "09c41f6b-9f81-4e50-b070-07d5f61f76b6",
   "metadata": {},
   "outputs": [],
   "source": [
    "rawdata = pd.read_excel('finratios.xlsx')\n",
    "rawdata.head()"
   ]
  },
  {
   "cell_type": "markdown",
   "id": "8bb8674b-3894-4b72-8cc0-8a5ef9d59abe",
   "metadata": {},
   "source": [
    "<!-- BEGIN QUESTION -->\n",
    "\n",
    "**Question 2.a.**\n",
    "Run the following code and describe what this code is doing. \n",
    "\n",
    "<!--\n",
    "BEGIN QUESTION\n",
    "name: q2_a\n",
    "manual: true\n",
    "-->"
   ]
  },
  {
   "cell_type": "code",
   "execution_count": null,
   "id": "7696115c-eb8b-4f44-8a6e-9a036fd766a4",
   "metadata": {},
   "outputs": [],
   "source": [
    "data = pd.DataFrame({'permno'  : rawdata['permno'],\n",
    "                     'retdate' : rawdata['date'],\n",
    "                     'secret'  : rawdata['secret']-rawdata['vwretd'],\n",
    "                     'dkr'     : rawdata['totdebt_invcap'].shift(1),\n",
    "                     'bm'      : rawdata['bm'].shift(1),\n",
    "                     'sale'    : rawdata['sale_invcap'].shift(1),\n",
    "                     'de'      : rawdata['de_ratio'].shift(1)\n",
    "                   })\n",
    "data = data.dropna(subset=['secret','dkr','bm','sale','de']) # drop rows with NaN values\n",
    "data = data.loc[data['retdate'] > 20211115]\n",
    "data = data.loc[(data['secret'] <= np.quantile(data['secret'], 0.995)) & \\\n",
    "                (data['secret'] >= np.quantile(data['secret'], 0.005)) & \\\n",
    "                (data['dkr']    <= np.quantile(data['dkr'], 0.995)) & \\\n",
    "                (data['dkr']    >= np.quantile(data['dkr'], 0.005)) & \\\n",
    "                (data['sale']   <= np.quantile(data['sale'], 0.995)) & \\\n",
    "                (data['sale']   >= np.quantile(data['sale'], 0.005)) & \\\n",
    "                (data['bm']     <= np.quantile(data['bm'], 0.995)) & \\\n",
    "                (data['bm']     >= np.quantile(data['bm'], 0.005)) & \\\n",
    "                (data['de']     <= np.quantile(data['de'], 0.995)) & \\\n",
    "                (data['de']     >= np.quantile(data['de'], 0.005))]\n",
    "data.info()"
   ]
  },
  {
   "cell_type": "markdown",
   "id": "410fdd97-b708-490d-a947-9dffe3f6ba58",
   "metadata": {},
   "source": [
    "_Type your answer here, replacing this text._"
   ]
  },
  {
   "cell_type": "markdown",
   "id": "4599ec56-c628-4ada-b99c-15726a411285",
   "metadata": {},
   "source": [
    "<!-- END QUESTION -->\n",
    "\n",
    "<!-- BEGIN QUESTION -->\n",
    "\n",
    "**Question 2.b.**\n",
    "Run the following code and describe what this code is doing. \n",
    "\n",
    "<!--\n",
    "BEGIN QUESTION\n",
    "name: q2_b\n",
    "manual: true\n",
    "-->"
   ]
  },
  {
   "cell_type": "code",
   "execution_count": null,
   "id": "3571b175-36fa-433c-8b4f-bc7fbe34b07e",
   "metadata": {},
   "outputs": [],
   "source": [
    "permno = pd.DataFrame({'permno' : data['permno'].unique()})\n",
    "nco = len(permno)\n",
    "for i in range(nco):\n",
    "    pdata = data.loc[data['permno'] == permno['permno'][i]]\n",
    "    ndt = len(pdata)\n",
    "    if ndt < 12:\n",
    "        data = data.loc[data['permno'] != permno['permno'][i]]\n",
    "data.info()"
   ]
  },
  {
   "cell_type": "markdown",
   "id": "7b77a777-9d8d-4c39-8cc1-3bc024fe0c62",
   "metadata": {},
   "source": [
    "_Type your answer here, replacing this text._"
   ]
  },
  {
   "cell_type": "markdown",
   "id": "d94f991c-dc26-476d-a8a7-3a30edf89f1d",
   "metadata": {},
   "source": [
    "<!-- END QUESTION -->\n",
    "\n",
    "<!-- BEGIN QUESTION -->\n",
    "\n",
    "**Question 2.c.**\n",
    "For each cross section in the dataset, regress `secret` on `dkr`, `sale`, `bm`, `de`, and a constant. \n",
    "\n",
    "Are the estimates for the slope coefficients consistently statistically significant or consistently not statistically significant?\n",
    "\n",
    "<!--\n",
    "BEGIN QUESTION\n",
    "name: q2_c\n",
    "manual: true\n",
    "-->"
   ]
  },
  {
   "cell_type": "code",
   "execution_count": null,
   "id": "0185b24f-345c-4fbf-b04d-cccea2c3cfcd",
   "metadata": {},
   "outputs": [],
   "source": []
  },
  {
   "cell_type": "markdown",
   "id": "7611dfba-77d0-44b0-a425-f08888b76499",
   "metadata": {},
   "source": [
    "_Type your answer here, replacing this text._"
   ]
  },
  {
   "cell_type": "markdown",
   "id": "444b4524-85c2-4a79-9c8b-6fc5a93484e7",
   "metadata": {},
   "source": [
    "<!-- END QUESTION -->\n",
    "\n",
    "<!-- BEGIN QUESTION -->\n",
    "\n",
    "**Question 2.d.**\n",
    "Run the following code and describe what this code is doing. \n",
    "\n",
    "<!--\n",
    "BEGIN QUESTION\n",
    "name: q2_d\n",
    "manual: true\n",
    "-->"
   ]
  },
  {
   "cell_type": "code",
   "execution_count": null,
   "id": "7f3d3606-fb0b-4c84-96c3-098709c1149e",
   "metadata": {},
   "outputs": [],
   "source": [
    "for i in range(ndt):\n",
    "    data.insert(6+i,\"m\"+str(i+1),np.zeros(len(data)),True)\n",
    "    data.loc[data['retdate'] == dates['retdate'][i], \"m\"+str(i+1)] = 1\n",
    "data.set_index(['permno','retdate'], inplace=True)\n",
    "data.info()"
   ]
  },
  {
   "cell_type": "markdown",
   "id": "ead3947d-002c-4915-b0fc-9103a8b8404d",
   "metadata": {},
   "source": [
    "_Type your answer here, replacing this text._"
   ]
  },
  {
   "cell_type": "markdown",
   "id": "7464bae4-da0d-4770-81c2-8662487fa5e3",
   "metadata": {},
   "source": [
    "<!-- END QUESTION -->\n",
    "\n",
    "<!-- BEGIN QUESTION -->\n",
    "\n",
    "**Question 2.e.**\n",
    "Run the following code and describe what this code is doing. Why have we not included `m1` in the dummy variable list? Do you believe the standard errors are correct in this regression?\n",
    "\n",
    "<!--\n",
    "BEGIN QUESTION\n",
    "name: q2_e\n",
    "manual: true\n",
    "-->"
   ]
  },
  {
   "cell_type": "code",
   "execution_count": null,
   "id": "a26fd195-8b26-4505-978e-6027df68942b",
   "metadata": {},
   "outputs": [],
   "source": [
    "exog_vars = [\"dkr\",\"sale\",\"bm\",\"de\"]\n",
    "mnth_dums = [\"m2\",\"m3\",\"m4\",\"m5\",\"m6\",\"m7\",\"m8\",\"m9\",\"m10\",\"m11\",\"m12\"]\n",
    "exog = sm.add_constant(data[exog_vars])\n",
    "mod = PooledOLS(data['secret'], exog)\n",
    "res = mod.fit(cov_type='robust')\n",
    "print(res)"
   ]
  },
  {
   "cell_type": "markdown",
   "id": "b2d5dfee-e2f5-495f-a37b-e2a87818af80",
   "metadata": {},
   "source": [
    "_Type your answer here, replacing this text._"
   ]
  },
  {
   "cell_type": "markdown",
   "id": "8c512fe4-4870-4a3c-a0b0-5f2eace31716",
   "metadata": {},
   "source": [
    "<!-- END QUESTION -->\n",
    "\n",
    "<!-- BEGIN QUESTION -->\n",
    "\n",
    "**Question 2.f.**\n",
    "Run the following code and describe what this code is doing. What type of variables are we controlling for in this regression? Do you believe the standard errors are correct in this regression? Are they bigger or smaller than the standard errors from the previous regression? Why?\n",
    "\n",
    "<!--\n",
    "BEGIN QUESTION\n",
    "name: q2_f\n",
    "manual: true\n",
    "-->"
   ]
  },
  {
   "cell_type": "code",
   "execution_count": null,
   "id": "cc57c64a-1261-4740-b7d7-4c520e42e918",
   "metadata": {},
   "outputs": [],
   "source": [
    "exog_vars = [\"dkr\",\"sale\",\"bm\",\"de\"]\n",
    "exog = sm.add_constant(data[exog_vars])\n",
    "mod = PanelOLS(data['secret'], exog, time_effects=True)\n",
    "res = mod.fit(cov_type='clustered', cluster_entity=True)\n",
    "print(res)"
   ]
  },
  {
   "cell_type": "markdown",
   "id": "24035c6c-ec75-4336-89d1-604bebb073ee",
   "metadata": {},
   "source": [
    "_Type your answer here, replacing this text._"
   ]
  },
  {
   "cell_type": "markdown",
   "id": "956059ec-e612-4beb-8f0f-814416ec6ac9",
   "metadata": {},
   "source": [
    "<!-- END QUESTION -->\n",
    "\n",
    "<!-- BEGIN QUESTION -->\n",
    "\n",
    "**Question 2.g.**\n",
    "Based on the regression results, evaluate the EMH (with respect to all four ratios). Is your conclusion different from what you concluded in problem 1 (based on  a single cross section)? Are you surprised? Comment.\n",
    "\n",
    "<!--\n",
    "BEGIN QUESTION\n",
    "name: q2_g\n",
    "manual: true\n",
    "-->"
   ]
  },
  {
   "cell_type": "markdown",
   "id": "46932349-1e40-4c02-bbdd-d14ebefd9437",
   "metadata": {},
   "source": [
    "_Type your answer here, replacing this text._"
   ]
  },
  {
   "cell_type": "markdown",
   "id": "d0b8f26b-2b1e-4650-8494-27670fcfb840",
   "metadata": {
    "cell_id": "00005-bec89ee2-a5bd-4e86-a820-e5d6ca7b9b7c",
    "deepnote_cell_type": "markdown"
   },
   "source": [
    "## Problem 3. An AR(2) Process\n",
    "\n",
    "Suppose $\\{ x_t \\}$ follows the AR(2) model\n",
    "\n",
    "$x_t = 2.5 + 1.3 x_{t-1}- 0.4 x_{t-2} + \\epsilon_t$\n",
    "\n",
    "where $\\epsilon_t$ is iid with $\\mathbb{E}[\\epsilon_t] = 0$ and $\\sigma_{\\epsilon}^2 = 9$.\n"
   ]
  },
  {
   "cell_type": "markdown",
   "id": "aeecb0f9-1c43-428d-902d-053b2883db01",
   "metadata": {},
   "source": [
    "<!-- BEGIN QUESTION -->\n",
    "\n",
    "**Question 3.a.**\n",
    "Show that this process is stationary.\n",
    "\n",
    "<!--\n",
    "BEGIN QUESTION\n",
    "name: q3_a\n",
    "manual: true\n",
    "-->"
   ]
  },
  {
   "cell_type": "markdown",
   "id": "b44256ed-8a6d-4e00-97ae-a57a9816bfa8",
   "metadata": {},
   "source": [
    "_Type or upload an image of your written answer here._"
   ]
  },
  {
   "cell_type": "markdown",
   "id": "15f9ea35-5790-47da-8c3f-d5933f7712a6",
   "metadata": {},
   "source": [
    "<!-- END QUESTION -->\n",
    "\n",
    "<!-- BEGIN QUESTION -->\n",
    "\n",
    "**Question 3.b.**\n",
    "Does this process have an $\\mbox{MA}(\\infty)$ representation? Explain.\n",
    "\n",
    "<!--\n",
    "BEGIN QUESTION\n",
    "name: q3_b\n",
    "manual: true\n",
    "-->"
   ]
  },
  {
   "cell_type": "markdown",
   "id": "96a57ab8-4b39-4787-b453-8809fe907000",
   "metadata": {},
   "source": [
    "_Type or upload an image of your written answer here._"
   ]
  },
  {
   "cell_type": "markdown",
   "id": "534da9a6-070a-4e97-9898-2b6817d236d1",
   "metadata": {},
   "source": [
    "<!-- END QUESTION -->\n",
    "\n",
    "<!-- BEGIN QUESTION -->\n",
    "\n",
    "**Question 3.c.**\n",
    "Compute the mean and variance of $x_t$.\n",
    "\n",
    "<!--\n",
    "BEGIN QUESTION\n",
    "name: q3_c\n",
    "manual: true\n",
    "-->"
   ]
  },
  {
   "cell_type": "markdown",
   "id": "84797ea4-5438-4000-9c01-83a436be3dd3",
   "metadata": {},
   "source": [
    "_Type or upload an image of your written answer here._"
   ]
  },
  {
   "cell_type": "markdown",
   "id": "bea1d1f2-fbb0-4cce-b82d-00a85b5b7125",
   "metadata": {},
   "source": [
    "<!-- END QUESTION -->\n",
    "\n",
    "<!-- BEGIN QUESTION -->\n",
    "\n",
    "**Question 3.d.**\n",
    "Compute the first three autocovariances of $x_t$.\n",
    "\n",
    "<!--\n",
    "BEGIN QUESTION\n",
    "name: q3_d\n",
    "manual: true\n",
    "-->"
   ]
  },
  {
   "cell_type": "markdown",
   "id": "7c571394-e31c-4217-a746-ef07bbfeae5f",
   "metadata": {},
   "source": [
    "_Type or upload an image of your written answer here._"
   ]
  },
  {
   "cell_type": "markdown",
   "id": "d210ddb6-37bf-4a7c-b4dd-39266deef373",
   "metadata": {},
   "source": [
    "<!-- END QUESTION -->\n",
    "\n",
    "<!-- BEGIN QUESTION -->\n",
    "\n",
    "**Question 3.e.**\n",
    "Compute the first three autocorrelations of $x_t$.\n",
    "\n",
    "<!--\n",
    "BEGIN QUESTION\n",
    "name: q3_e\n",
    "manual: true\n",
    "-->"
   ]
  },
  {
   "cell_type": "markdown",
   "id": "4d30e97a-a2e1-4892-96fd-4688099b25e4",
   "metadata": {},
   "source": [
    "_Type or upload an image of your written answer here._"
   ]
  },
  {
   "cell_type": "markdown",
   "id": "68f86069-ee70-4eaa-9bcb-e197f18907c0",
   "metadata": {},
   "source": [
    "<!-- END QUESTION -->\n",
    "\n",
    "<!-- BEGIN QUESTION -->\n",
    "\n",
    "**Question 3.f.**\n",
    "Suppose $x_t = 102.3$ and $x_{t-1} = 98$. Compute $\\mathbb{E}_t[\\epsilon_{t+1}] = 0$.\n",
    "\n",
    "<!--\n",
    "BEGIN QUESTION\n",
    "name: q3_f\n",
    "manual: true\n",
    "-->"
   ]
  },
  {
   "cell_type": "markdown",
   "id": "ad3a4052-ab0d-4500-882f-43bca5ad59f3",
   "metadata": {},
   "source": [
    "_Type or upload an image of your written answer here._"
   ]
  },
  {
   "cell_type": "markdown",
   "id": "34e34b04-603f-447a-af98-ae77018dbdf6",
   "metadata": {},
   "source": [
    "## Problem 4. Constructing ARMA Models\n",
    "\n",
    "In this problem, we use a monthly UK house price series from the file `UKHP.xlsx`, There are a total of 327 monthly observations running from January 1991 through March 2018. The objective of this problem is to build an ARMA model for the percentage house price changes. Recall that there are three stages involved: identification, estimation, and diagnostic checking. "
   ]
  },
  {
   "cell_type": "code",
   "execution_count": null,
   "id": "5273a7a2-5495-42e2-9ae0-19d09625c684",
   "metadata": {},
   "outputs": [],
   "source": [
    "import statsmodels.tsa.api as smt"
   ]
  },
  {
   "cell_type": "code",
   "execution_count": null,
   "id": "06a198e2-cc45-439a-a914-6d932bfd5bf9",
   "metadata": {},
   "outputs": [],
   "source": [
    "data = pd.read_excel('UKHP.xlsx',index_col=0)\n",
    "data['dhp'] = data['Average House Price']. \\\n",
    "                  transform(lambda x: (x-x.shift(1))/x.shift(1)*100)\n",
    "data = data.dropna()\n",
    "data.head()"
   ]
  },
  {
   "cell_type": "markdown",
   "id": "fe0dfb73-505f-473c-822e-5c57cee267bb",
   "metadata": {},
   "source": [
    "<!-- BEGIN QUESTION -->\n",
    "\n",
    "**Question 4.a.**\n",
    "Plot the data seris for the monthly percentage change in the average house price between February 1991 and March 2018\n",
    "\n",
    "<!--\n",
    "BEGIN QUESTION\n",
    "name: q4_a\n",
    "manual: true\n",
    "-->"
   ]
  },
  {
   "cell_type": "code",
   "execution_count": null,
   "id": "3e498c02-0f36-4499-bc1d-013b996ba384",
   "metadata": {},
   "outputs": [],
   "source": []
  },
  {
   "cell_type": "markdown",
   "id": "dcad1b07-c262-4f7a-8b30-200c01b809c8",
   "metadata": {},
   "source": [
    "<!-- END QUESTION -->\n",
    "\n",
    "<!-- BEGIN QUESTION -->\n",
    "\n",
    "**Question 4.b.**\n",
    "The first stage of constructing an ARMA model is carried out by looking at autocorrelation and partial autocorrelation functions to identify any structure in the data. \n",
    "\n",
    "Run the following code to generate the autocorrelation and partial autocorrelation functions. Test each of the individual correlation coefficients for significance, and test all 6 jointly using the Box-Pierce and Ljung-Box tests.\n",
    "\n",
    "_**Note:** we drop the first value of both the act and pacf series by **acf[1:]** and **pacf[1:]** because the **acf** fucntion starts to return coefficients at lag 0._\n",
    "<!--\n",
    "BEGIN QUESTION\n",
    "name: q4_b\n",
    "manual: true\n",
    "-->"
   ]
  },
  {
   "cell_type": "code",
   "execution_count": null,
   "id": "95f05f77-46f9-448d-bc6e-f6252edb3d7b",
   "metadata": {},
   "outputs": [],
   "source": [
    "acf,q,p = smt.acf(data['dhp'],nlags=6,qstat=True)\n",
    "pacf = smt.pacf(data['dhp'],nlags=6)\n",
    "\n",
    "correlogram = pd.DataFrame({'acf'  : acf[1:],\n",
    "                            'pacf' : pacf[1:],\n",
    "                            'Q'    : q\n",
    "                           })\n",
    "correlogram"
   ]
  },
  {
   "cell_type": "markdown",
   "id": "7d144051-bec5-4f78-88c7-428d97f9b34f",
   "metadata": {},
   "source": [
    "_Type your answer here, replacing this text._"
   ]
  },
  {
   "cell_type": "markdown",
   "id": "39434949-760c-4335-b71b-bb5fa6fbb4f5",
   "metadata": {},
   "source": [
    "<!-- END QUESTION -->\n",
    "\n",
    "<!-- BEGIN QUESTION -->\n",
    "\n",
    "**Question 4.c.**\n",
    "Here we plot the autocorrelation and partial autocorrelation functions. Based on the visual evidence, do you think an AR(p), MA(q), or ARMA(p,q) model might best fit the data? Explain.\n",
    "\n",
    "\n",
    "<!--\n",
    "BEGIN QUESTION\n",
    "name: q4_c\n",
    "manual: true\n",
    "-->"
   ]
  },
  {
   "cell_type": "code",
   "execution_count": null,
   "id": "d461915a-c6a4-45ea-8383-2bcf00553114",
   "metadata": {},
   "outputs": [],
   "source": [
    "sm.graphics.tsa.plot_acf(data['dhp'], lags=20)\n",
    "plt.show()\n",
    "sm.graphics.tsa.plot_pacf(data['dhp'], lags=20)\n",
    "plt.show()"
   ]
  },
  {
   "cell_type": "markdown",
   "id": "2441c81e-d198-4a68-86d3-19fbdb0de794",
   "metadata": {},
   "source": [
    "_Type your answer here, replacing this text._"
   ]
  },
  {
   "cell_type": "markdown",
   "id": "015a3021-09c6-4145-8fa0-9ac2ecad5b79",
   "metadata": {},
   "source": [
    "<!-- END QUESTION -->\n",
    "\n",
    "<!-- BEGIN QUESTION -->\n",
    "\n",
    "**Question 4.d.**\n",
    "As a next step in the identification stage, and to get familiar with some of the available tools, we fit an AR(2) -- i.e., an ARIMA(2,0,0) -- model to our data.\n",
    "\n",
    "Are the estimated coefficients for the intercept, autoregressive, and moving average components statistically significant? Is the autoregressive process implied by this model stationary? Explain.\n",
    "\n",
    "In theory, the output table would be discussed in a similar fashion to the simple linear regression model. However, in reality it is very difficult to interpret the parameter estimates\r",
    "in the sense of, for example, saying \"a 1 unit increase in $X$ leads to a $\\beta_1$ unit increase in $Y$.\" Because the construction of ARMA models is not based on any economic or financial theory, we often do not to even try to interpret the individual parameter estimates. Instead, we focus on the plausibility of the model as a whole, and try to determine whether it describes the data well and produces accurate forecasts.\n",
    "\n",
    "<!--\n",
    "BEGIN QUESTION\n",
    "name: q4_d\n",
    "manual: true\n",
    "-->"
   ]
  },
  {
   "cell_type": "code",
   "execution_count": null,
   "id": "032def56-6a98-4f85-aceb-83846be60db9",
   "metadata": {},
   "outputs": [],
   "source": [
    "res = smt.ARIMA(data['dhp'], order=(2,0,0)).fit()\n",
    "print(res.summary())"
   ]
  },
  {
   "cell_type": "markdown",
   "id": "9c9d9d3e-46b5-4638-9fc4-66a04df2d0c6",
   "metadata": {},
   "source": [
    "_Type your answer here, replacing this text._"
   ]
  },
  {
   "cell_type": "markdown",
   "id": "845b8854-0961-4836-92f0-47a34c22fc32",
   "metadata": {},
   "source": [
    "<!-- END QUESTION -->\n",
    "\n",
    "<!-- BEGIN QUESTION -->\n",
    "\n",
    "**Question 4.e.**\n",
    "Now fit an MA(2) -- i.e., an ARIMA(0,0,2) -- model to our data.\n",
    "\n",
    "Are the estimated coefficients for the intercept, autoregressive, and moving average components statistically significant? Is the moving average process implied by this model invertible? Explain.\n",
    "\n",
    "<!--\n",
    "BEGIN QUESTION\n",
    "name: q4_e\n",
    "manual: true\n",
    "-->"
   ]
  },
  {
   "cell_type": "code",
   "execution_count": null,
   "id": "e4f8d271-2dbe-4b38-9580-c24f41159621",
   "metadata": {},
   "outputs": [],
   "source": []
  },
  {
   "cell_type": "markdown",
   "id": "998f8852-94e5-43f6-8504-e367126c80c6",
   "metadata": {},
   "source": [
    "_Type your answer here, replacing this text._"
   ]
  },
  {
   "cell_type": "markdown",
   "id": "770ba3c8-52dc-4af7-88a3-43d14d8cdd35",
   "metadata": {},
   "source": [
    "<!-- END QUESTION -->\n",
    "\n",
    "<!-- BEGIN QUESTION -->\n",
    "\n",
    "**Question 4.f.**\n",
    "Finally, fit an ARMA(1,1) -- i.e., an ARIMA(1,0,1) -- model to our data.\n",
    "\n",
    "Are the estimated coefficients for the intercept, autoregressive, and moving average components statistically significant? Of the three models we have estimated so far, which model is the \"best\" model for fitting our time series? Explain.\n",
    "\n",
    "<!--\n",
    "BEGIN QUESTION\n",
    "name: q4_f\n",
    "manual: true\n",
    "-->"
   ]
  },
  {
   "cell_type": "code",
   "execution_count": null,
   "id": "ad9a7ac4-8f14-4704-b2d3-0b85c6dc27c1",
   "metadata": {},
   "outputs": [],
   "source": []
  },
  {
   "cell_type": "markdown",
   "id": "c8346594-a957-47a9-8b52-97ff0d6e490e",
   "metadata": {},
   "source": [
    "_Type your answer here, replacing this text._"
   ]
  },
  {
   "cell_type": "markdown",
   "id": "58d2b7f2-30e0-4a46-b2ce-77565c00bb15",
   "metadata": {},
   "source": [
    "<!-- END QUESTION -->\n",
    "\n",
    "<!-- BEGIN QUESTION -->\n",
    "\n",
    "**Question 4.g.**\n",
    "We can now try to obtain the information criteria for many ARMA($p$,$q$) models simultaneously. \n",
    "\n",
    "Run the following code to compute the information criteria for all the possible ARMA($p$,$q$) from ARMA(0,0) to ARMA(5,5).\n",
    "\n",
    "Based on these results, which model is the \"best\" model for fitting our time series? Explain.\n",
    "\n",
    "<!--\n",
    "BEGIN QUESTION\n",
    "name: q4_g\n",
    "manual: true\n",
    "-->"
   ]
  },
  {
   "cell_type": "code",
   "execution_count": null,
   "id": "1dbe3c7b-5544-4b53-8361-856a875570d8",
   "metadata": {},
   "outputs": [],
   "source": [
    "res1 = smt.arma_order_select_ic(data['dhp'], \\\n",
    "                                max_ar=5, max_ma=5, \\\n",
    "                                ic=['aic','bic','hqic'], \\\n",
    "                                trend='c')\n",
    "\n",
    "print('AIC')\n",
    "print(res1.aic)\n",
    "print(' ')\n",
    "print('BIC')\n",
    "print(res1.bic)\n",
    "print(' ')\n",
    "print('HQIC')\n",
    "print(res1.hqic)"
   ]
  },
  {
   "cell_type": "markdown",
   "id": "03723337-f2d4-459d-a3e7-da486cfedb32",
   "metadata": {},
   "source": [
    "_Type your answer here, replacing this text._"
   ]
  },
  {
   "cell_type": "markdown",
   "id": "4b56e237-8671-46fd-b742-4aac21b64587",
   "metadata": {},
   "source": [
    "## Problem 5. Forecasting\n",
    "\n",
    "Suppose, based on our results from the previous problem, we select the AR(2) (i.e., the ARMA(2,0)) model for the house price changes. We would like to evaluate this model in terms of how well it forecasts changes in housing prices.\n",
    "\n",
    "First we choose an \"in sample\" period for estimation and an \"out of sample\" period for testing. "
   ]
  },
  {
   "cell_type": "code",
   "execution_count": null,
   "id": "62f686c3-833a-49dd-83c1-c607270407e3",
   "metadata": {},
   "outputs": [],
   "source": [
    "import statsmodels.tsa.api as smt\n",
    "from statsmodels.graphics.tsaplots import plot_predict\n",
    "from statsmodels.tsa.arima.model import ARIMA\n",
    "from sklearn.metrics import mean_squared_error\n",
    "from sklearn.metrics import mean_absolute_error\n",
    "from sklearn.metrics import mean_absolute_percentage_error"
   ]
  },
  {
   "cell_type": "code",
   "execution_count": null,
   "id": "8b3d2615-32f8-4b20-b07c-f3ffebe66d51",
   "metadata": {},
   "outputs": [],
   "source": [
    "data = pd.read_excel('UKHP.xlsx',index_col=0)\n",
    "data['dhp'] = data['Average House Price']. \\\n",
    "                  transform(lambda x: (x-x.shift(1))/x.shift(1)*100)\n",
    "data = data.drop(columns=['Average House Price'])\n",
    "data = data.dropna()\n",
    "data.tail()"
   ]
  },
  {
   "cell_type": "code",
   "execution_count": null,
   "id": "e720886f-fbde-4c17-ab7e-4ad878b47dcf",
   "metadata": {},
   "outputs": [],
   "source": [
    "data_insample = data['1991-02-01':'2015-12-01']\n",
    "data_insample.tail()"
   ]
  },
  {
   "cell_type": "code",
   "execution_count": null,
   "id": "0d672795-6dec-4af7-a82d-c187c456e736",
   "metadata": {},
   "outputs": [],
   "source": [
    "data_outsample = data['2016-01-01':'2018-03-01']\n",
    "data_outsample.head()"
   ]
  },
  {
   "cell_type": "markdown",
   "id": "7044f9c9-310d-41cd-80f0-7362efa5ff6b",
   "metadata": {},
   "source": [
    "<!-- BEGIN QUESTION -->\n",
    "\n",
    "**Question 5.a.**\n",
    "Estimate (and display the estimation results) for the ARMA(2,0) model.\n",
    "\n",
    "<!--\n",
    "BEGIN QUESTION\n",
    "name: q5_a\n",
    "manual: true\n",
    "-->"
   ]
  },
  {
   "cell_type": "code",
   "execution_count": null,
   "id": "c3da41c2-7814-468c-a8f7-4e755c8515ae",
   "metadata": {},
   "outputs": [],
   "source": []
  },
  {
   "cell_type": "markdown",
   "id": "ac9d4efd-da9c-4d24-a94e-5fe918425596",
   "metadata": {},
   "source": [
    "<!-- END QUESTION -->\n",
    "\n",
    "<!-- BEGIN QUESTION -->\n",
    "\n",
    "**Question 5.b.**\n",
    "Now that we have estimated the model, we can produce forecasts for the period 2016-01-01 through 2018-03-01. \n",
    "\n",
    "Run the following code to plot the actual series, the out-of-sample predicted series, and the 95% confidence interval for the out-of-sample predicted series.\n",
    "\n",
    "Based on the visual evidence, comment on the accuracy of the forecast (in your opinion).\n",
    "\n",
    "<!--\n",
    "BEGIN QUESTION\n",
    "name: q5_b\n",
    "manual: true\n",
    "-->"
   ]
  },
  {
   "cell_type": "code",
   "execution_count": null,
   "id": "2b62bfad-fcb9-48d0-8a6d-50f9659ad242",
   "metadata": {},
   "outputs": [],
   "source": [
    "model = smt.ARIMA(data['dhp'], order=(2,0,0))\n",
    "res = model.fit()\n",
    "\n",
    "fig, ax = plt.subplots()\n",
    "ax = data.loc['2016-01-01':].plot(ax=ax)\n",
    "fig = plot_predict(res,'2016-01-01','2018-03-01',dynamic=False,ax=ax)\n",
    "plt.show()"
   ]
  },
  {
   "cell_type": "markdown",
   "id": "e3138e4d-4ae3-4aa2-8421-1fe03d254aaa",
   "metadata": {},
   "source": [
    "_Type your answer here, replacing this text._"
   ]
  },
  {
   "cell_type": "markdown",
   "id": "f8523ecd-9034-49c2-8c66-96b7c1f39545",
   "metadata": {},
   "source": [
    "<!-- END QUESTION -->\n",
    "\n",
    "<!-- BEGIN QUESTION -->\n",
    "\n",
    "**Question 5.c.**\n",
    "For a more quantitative measure of the accuracy of a forecast we use a few of the measures discussed in class: root mean squared error (RMSE), mean absolute error (MAE), and mean absolute percentage error (MAPE).\n",
    "\n",
    "Estimate an ARMA(4,2) model (chosen based on the AIC results from problem 4) and compare the accuracy of the forecasts to the accuracy of the ARMA(2,0) model -- using RMSE, MAE, and MAPE. Which model is \"better\"? Explain.\n",
    "\n",
    "<!--\n",
    "BEGIN QUESTION\n",
    "name: q5_c\n",
    "manual: true\n",
    "-->"
   ]
  },
  {
   "cell_type": "code",
   "execution_count": null,
   "id": "ef4eb6e9-f2c8-43bc-a38a-5a4a136e83ea",
   "metadata": {},
   "outputs": [],
   "source": [
    "pred = res.predict('2016-01-01','2018-03-01',dynamic=False)\n",
    "rmse = np.sqrt(mean_squared_error(data_outsample['dhp'],pred))\n",
    "mae  = mean_absolute_error(data_outsample['dhp'],pred)\n",
    "mape = mean_absolute_percentage_error(data_outsample['dhp'],pred)\n",
    "print('RMSE: {}'.format(rmse))\n",
    "print('MAE:  {}'.format(mae))\n",
    "print('MAPE: {}'.format(mape))"
   ]
  },
  {
   "cell_type": "markdown",
   "id": "9eae8bb6-a379-40bf-a06b-88f15754c33e",
   "metadata": {},
   "source": [
    "_Type your answer here, replacing this text._"
   ]
  },
  {
   "cell_type": "markdown",
   "id": "bb1865ff-f81d-41e0-80ad-2344f84fc84a",
   "metadata": {},
   "source": [
    "<!-- END QUESTION -->\n",
    "\n",
    "<!-- BEGIN QUESTION -->\n",
    "\n",
    "**Question 5.d.**\n",
    "Exponential smoothing is another approach (distinct from the ARMA approach) to forecasting, that only uses uses a linear combination of previous values of the time series to forecast future values.\n",
    "\n",
    "The following code produces one step ahead forecasts based on exponential smoothing, where $\\alpha$ is the smoothing constant.\n",
    "\n",
    "Can you find an $\\alpha$ that produces more accurate forecasts than either of the ARMA models from above? Carefully justify your answer.\n",
    "\n",
    "<!--\n",
    "BEGIN QUESTION\n",
    "name: q5_d\n",
    "manual: true\n",
    "-->"
   ]
  },
  {
   "cell_type": "code",
   "execution_count": null,
   "id": "bccf8c5d-4d1f-4f13-a784-2673ac0a5f14",
   "metadata": {},
   "outputs": [],
   "source": [
    "# Simple exponential smoothing\n",
    "alpha = 0.25\n",
    "forecast = np.zeros(len(data_outsample))\n",
    "actual = np.zeros(len(data_outsample))\n",
    "j = 0\n",
    "for d, row1 in data_outsample.iterrows():\n",
    "    data_insample = data[data.index < d]\n",
    "    firstrow = True\n",
    "    actual[j] = row1['dhp']\n",
    "    for i, row2 in data_insample.iterrows():\n",
    "        if firstrow:\n",
    "            forecast[j] = row2['dhp']\n",
    "            firstrow = False\n",
    "        else:\n",
    "            forecast[j] = (1-alpha)*forecast[j] + alpha*row2['dhp']\n",
    "    # print('sample size: ', len(data_insample))\n",
    "    # print('forecast dhp:', forecast[j])\n",
    "    # print('actual dhp:  ', actual[j])\n",
    "    j = j + 1\n",
    "\n",
    "plt.figure()\n",
    "plt.plot(actual, label='Actual DHP')\n",
    "plt.plot(forecast, label='Forecast DHP')\n",
    "plt.legend()\n",
    "plt.show()"
   ]
  },
  {
   "cell_type": "code",
   "execution_count": null,
   "id": "62e0d8a4-fe07-4121-b45d-5339cbf3b676",
   "metadata": {},
   "outputs": [],
   "source": []
  },
  {
   "cell_type": "markdown",
   "id": "e899d289-67f8-4a6e-9170-ddcfb2e5919e",
   "metadata": {},
   "source": [
    "_Type your answer here, replacing this text._"
   ]
  },
  {
   "cell_type": "markdown",
   "id": "2025bdb6-8d17-4ef8-b307-73ad3860abbd",
   "metadata": {},
   "source": [
    "<!-- END QUESTION -->\n",
    "\n",
    "<!-- BEGIN QUESTION -->\n",
    "\n",
    "**Question 5.e.**\n",
    "Exponential smoothing with a half-life is a common approach used in risk forecasting.\n",
    "\n",
    "The following code produces one step ahead forecasts based on exponential smoothing with a half-life.\n",
    "\n",
    "Can you find a half-life that produces more accurate forecasts than either of the ARMA models and simple exponential smoothing? Carefully justify your answer.\n",
    "\n",
    "<!--\n",
    "BEGIN QUESTION\n",
    "name: q5_e\n",
    "manual: true\n",
    "-->"
   ]
  },
  {
   "cell_type": "code",
   "execution_count": null,
   "id": "d83b764e-b9ea-4da2-ade4-5ea2a7f10ed7",
   "metadata": {},
   "outputs": [],
   "source": [
    "# Exponential smoothing using a halflife\n",
    "halflife = 1\n",
    "delta = np.power(0.5,1/halflife)\n",
    "t = len(data)-1\n",
    "forecast = np.zeros(len(data_outsample))\n",
    "actual = np.zeros(len(data_outsample))\n",
    "j = 0\n",
    "for d, row1 in data_outsample.iterrows():\n",
    "    data_insample = data[data.index < d]\n",
    "    actual[j] = row1['dhp']\n",
    "    wghtsum = 0\n",
    "    sumwght = 0\n",
    "    t = len(data_insample)-1\n",
    "    for i, row2 in data_insample.iterrows():\n",
    "        sumwght = sumwght + np.power(delta,t)\n",
    "        wghtsum = wghtsum + np.power(delta,t)*row2['dhp']\n",
    "        t = t-1\n",
    "    forecast[j] = wghtsum/sumwght\n",
    "    # print('sample size:  ', len(data_insample))\n",
    "    # print('forecast dhp: ', forecast[j])\n",
    "    # print('actual dhp:   ', actual[j])\n",
    "    j = j + 1\n",
    "    \n",
    "plt.figure()\n",
    "plt.plot(actual, label='Actual DHP')\n",
    "plt.plot(forecast, label='Forecast DHP')\n",
    "plt.legend()\n",
    "plt.show()"
   ]
  },
  {
   "cell_type": "code",
   "execution_count": null,
   "id": "29422681-494c-411d-bfee-4436f2e5fe28",
   "metadata": {},
   "outputs": [],
   "source": []
  },
  {
   "cell_type": "markdown",
   "id": "6cf4f72f-2ed4-4831-aa4d-543336a30d1e",
   "metadata": {},
   "source": [
    "_Type your answer here, replacing this text._"
   ]
  },
  {
   "cell_type": "markdown",
   "id": "0012a39e-565b-4b6d-adc3-f4d133a57d16",
   "metadata": {},
   "source": [
    "## Submission\n",
    "\n",
    "Make sure you have run all cells in your notebook in order before running the cell below, so that all images/graphs appear in the output. The cell below will generate a pdf file for you to submit. **Please save before exporting!**"
   ]
  },
  {
   "cell_type": "code",
   "execution_count": null,
   "id": "cfc1f9c4-e334-4c2e-920d-4802d452baf5",
   "metadata": {},
   "outputs": [],
   "source": [
    "# Save your notebook first, then run this cell to export your submission.\n",
    "grader.to_pdf(pagebreaks=False, display_link=True)"
   ]
  },
  {
   "cell_type": "code",
   "execution_count": null,
   "id": "b8de9cae-e46e-4d99-90a2-f517d1b3ed17",
   "metadata": {},
   "outputs": [],
   "source": []
  }
 ],
 "metadata": {
  "kernelspec": {
   "display_name": "Python 3 (ipykernel)",
   "language": "python",
   "name": "python3"
  },
  "language_info": {
   "codemirror_mode": {
    "name": "ipython",
    "version": 3
   },
   "file_extension": ".py",
   "mimetype": "text/x-python",
   "name": "python",
   "nbconvert_exporter": "python",
   "pygments_lexer": "ipython3",
   "version": "3.9.15"
  }
 },
 "nbformat": 4,
 "nbformat_minor": 5
}
