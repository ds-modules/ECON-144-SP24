{
 "cells": [
  {
   "cell_type": "code",
   "execution_count": null,
   "id": "399660f9-ae6c-4000-9822-a02a330778b9",
   "metadata": {},
   "outputs": [],
   "source": [
    "pip install otter-grader"
   ]
  },
  {
   "cell_type": "code",
   "execution_count": null,
   "id": "bd2386a7-9149-45b1-ab98-1bbc73dee319",
   "metadata": {},
   "outputs": [],
   "source": [
    "pip install openpyxl"
   ]
  },
  {
   "cell_type": "code",
   "execution_count": 1,
   "id": "1865f2fb-dc1c-41aa-a32e-5d559271e383",
   "metadata": {},
   "outputs": [],
   "source": [
    "# Initialize Otter\n",
    "# If you need to install Otter, please uncomment and run the previous cell\n",
    "import otter\n",
    "grader = otter.Notebook(\"ps4.ipynb\")"
   ]
  },
  {
   "cell_type": "markdown",
   "id": "0c507025-1e90-4fe7-95a9-6f717d8e9471",
   "metadata": {},
   "source": [
    "# Econ 144 – Problem Set 4"
   ]
  },
  {
   "cell_type": "markdown",
   "id": "6a4c46fc-e701-454f-af00-03e251f0beda",
   "metadata": {},
   "source": [
    "In this problem set, you will conduct an event study analysis, construct mean-variance efficient frontiers, and empirically test the CAPM. \n",
    "\n",
    "Throughout the entire problem set, please feel free to add code and markdown cells as you need them."
   ]
  },
  {
   "cell_type": "code",
   "execution_count": null,
   "id": "d84d1c50-6454-473f-92dc-7cdeac4705e2",
   "metadata": {},
   "outputs": [],
   "source": [
    "import numpy as np\n",
    "import pandas as pd\n",
    "import statsmodels.api as sm\n",
    "import matplotlib.pyplot as plt\n",
    "from scipy.stats import f\n",
    "from scipy.stats import chi2 "
   ]
  },
  {
   "cell_type": "markdown",
   "id": "1bf5f7c8-e902-477c-88d1-59d58951abfa",
   "metadata": {},
   "source": [
    "## Problem 1. Quarterly Earnings Announcements\n",
    "\n",
    "In this problem, we conduct an event study using quarterly earnings announcements. Our goal is to analyze the information content of quarterly earnings announcements for companies in the DJIA from September 2018 to August 2023.\n",
    "\n",
    "The dataset contains quarterly earnings announcement data from  29/30 of the DJIA stocks for the 20 quarters in the sample period, yielding a total of 580 announcements.\n",
    "\n",
    "If earnings announcements convey information to investors, we expect the impact on the market's valuation of a company to depend on the magnitude of the **unexpected** component of the announcement. Hence, we need to measure the deviation of actual earnings from the market's expectation of earnings.\n",
    "\n",
    "As a proxy for the market's expectation of earnings, we will use earnings forecasts from the Institutional Brokers' Estimate System (IBES). IBES compiles earnings forecasts from analysts for a large number of companies.\n",
    "Our proxy will be the **average** of all of the analyst forecasts for a particular company in a given quarter.\n",
    "\n",
    "The IBES data is in the file `IBES_EPS.xlsx`. The variables wil will use in the analysis are the following:\n",
    "\n",
    "1. **oftic** -- the ticker symbol for the companies in the dataset.\n",
    "2. **ACTDATS_ACT** -- the date the actual earnings were recorded. This can be different than **ANNDATS_ACT** (the announcement date for actual earnings). If **ANNDATS_ACT** is on a weekend or holiday, then **ACTDATS_ACT** is the next day the market is open (we will use this date as our announcement date).\n",
    "3. **VALUE** -- the earnings forecast made by an analyst (individual analysts are identified by their **ESIMATOR** number). Earnings **forecasts** are announced on **ANNDATS** and recorded on **ACTDATS**.\n",
    "4. **ACTUAL** -- actual earnings (announced on **ANNDATS_ACT** and recorded on **ACTDATS_ACT**).\n",
    "\n",
    "If you are interested in more information on the IBES data, please see the file `IBES_RUI.pptx`."
   ]
  },
  {
   "cell_type": "code",
   "execution_count": null,
   "id": "db47eece-f548-41b3-bf5c-836e1e4f3830",
   "metadata": {},
   "outputs": [],
   "source": [
    "rawdata = pd.read_excel('IBES_EPS.xlsx')\n",
    "rawdata = rawdata.dropna(subset=['ACTDATS_ACT']).reset_index() # drop rows with NaN values\n",
    "rawdata.head()"
   ]
  },
  {
   "cell_type": "code",
   "execution_count": null,
   "id": "b2c62074-e93c-446f-aa75-434f4422a0c6",
   "metadata": {},
   "outputs": [],
   "source": [
    "rawdata.info()"
   ]
  },
  {
   "cell_type": "code",
   "execution_count": null,
   "id": "d22677e8-90ed-4151-a4ea-3ada28b8862c",
   "metadata": {},
   "outputs": [],
   "source": [
    "rawdjia = pd.read_excel('djia_dlyreturns.xlsx')\n",
    "rawdjia.head()"
   ]
  },
  {
   "cell_type": "markdown",
   "id": "97599595-514d-4c88-bdc7-69b55c746919",
   "metadata": {},
   "source": [
    "<!-- BEGIN QUESTION -->\n",
    "\n",
    "**Question 1.a.**\n",
    "Construct a dataframe with 4 columns: **TICKER**, **ANNDAT**, **FORECAST**, **ACTUAL**. There should be a row for each unique combination of **oftic** (which becomes **TICKER** in the new dataframe) and **ACTDATS_ACT** (which becomes **ANNDAT** in the new dataframe) in `rawdata`. **FORECAST** should be set equal to the **average** forecast for that **TICKER** and **ANNDAT**, **ACTUAL** should be set equal to the actual earnings for that **TICKER** and **ANNDAT**. Your new dataframe should contain 580 rows (29 stocks x 20 quarters).\n",
    "\n",
    "\n",
    "\n",
    "<!--\n",
    "BEGIN QUESTION\n",
    "name: q1_a\n",
    "manual: true\n",
    "-->"
   ]
  },
  {
   "cell_type": "code",
   "execution_count": null,
   "id": "f3a46457-967a-4e40-bef2-9e376f4cb2d2",
   "metadata": {},
   "outputs": [],
   "source": []
  },
  {
   "cell_type": "markdown",
   "id": "dafe7054-ed84-475a-9580-7276f9f9bd85",
   "metadata": {},
   "source": [
    "<!-- END QUESTION -->\n",
    "\n",
    "<!-- BEGIN QUESTION -->\n",
    "\n",
    "**Question 1.b.**\n",
    "Construct a dataframe with 5 columns: **ANNDAT**, **ESTWIN1**, **ESTWIN2**, **EVWIN1**, **EVWIN2**. There should be a row for each unique **ACTDATS_ACT** (which becomes **ANNDAT** in the new dataframe) in `rawdata`. Relative to **ANNDAT**, **ESTWIN1** is the first date in the estimation window, **ESTWIN2** is the last date in the estimation window, **EVWIN1** is the first date in the event window, and **EVWIN2** is the last date in the event window. Hint, you may want to use the dates in the daily returns file to help you here -- the estimation and event windows are defined in terms of **trading** days. Your new dataframe should contain 344 rows (there are 344 unique announcement dates in `rawdata`).\n",
    "\n",
    "<!--\n",
    "BEGIN QUESTION\n",
    "name: q1_b\n",
    "manual: true\n",
    "-->"
   ]
  },
  {
   "cell_type": "code",
   "execution_count": null,
   "id": "4e62ed54-52ae-4f8e-ad11-3f8ed6b1fcf6",
   "metadata": {},
   "outputs": [],
   "source": []
  },
  {
   "cell_type": "markdown",
   "id": "48bc87a7-b1e6-4e40-ac31-6d173f654305",
   "metadata": {},
   "source": [
    "<!-- END QUESTION -->\n",
    "\n",
    "<!-- BEGIN QUESTION -->\n",
    "\n",
    "**Question 1.c.**\n",
    "Augment your dataframe from **1.a** with estimates of $\\alpha$, $\\beta$ (market model), and $\\mu$ (constant mean return model). For each **TICKER** and **ANNDAT** use the return data in the estimation window for your estimates. Further, categorize each of the announcements as good news (**GOODNEWS**), bad news (**BADNEWS**), or no news (**NONEWS**) -- see class notes.\n",
    "\n",
    "<!--\n",
    "BEGIN QUESTION\n",
    "name: q1_c\n",
    "manual: true\n",
    "-->\n"
   ]
  },
  {
   "cell_type": "code",
   "execution_count": null,
   "id": "0c7dc621-d004-4301-a8d3-55e6d517bec7",
   "metadata": {},
   "outputs": [],
   "source": []
  },
  {
   "cell_type": "markdown",
   "id": "a7998a32-f272-4cb2-bbd5-e14e65909fae",
   "metadata": {},
   "source": [
    "<!-- END QUESTION -->\n",
    "\n",
    "<!-- BEGIN QUESTION -->\n",
    "\n",
    "**Question 1.d.**\n",
    "Create a new dataframe that contains the normal and abnormal return estimates (under each of our three normal return models) for each **TICKER/ANNDAT** in your dataframe from **1.c** and for each day in the event window. This dataframe should have 23,780 rows (580 **TICKER/ANNDAT**'s x 41 days in the event window).\n",
    "\n",
    "<!--\n",
    "BEGIN QUESTION\n",
    "name: q1_d\n",
    "manual: true\n",
    "-->"
   ]
  },
  {
   "cell_type": "code",
   "execution_count": null,
   "id": "3db1584c-163a-4c5a-8eb5-4bb907267e48",
   "metadata": {},
   "outputs": [],
   "source": []
  },
  {
   "cell_type": "markdown",
   "id": "734c8c96-0427-410c-b9ff-9172f0221f0e",
   "metadata": {},
   "source": [
    "<!-- END QUESTION -->\n",
    "\n",
    "<!-- BEGIN QUESTION -->\n",
    "\n",
    "**Question 1.e.**\n",
    "For each normal return model and each category of announcement. Run a Sharp RD, where the **cumulative abnormal return (CAR)** over the event window is the dependent variable. Run the regression allowing for the possibility of a different **linear** trend before and after the announcement date. You will need to run 9 separate regressions for each combination of normal return model (constant mean, market, market return as proxy) and anncouncement category (good news, bad news, and no news). Your results should match (or very closely resemble) the results in `event_study_figs.pdf` (see class notes folder on bCourses).\n",
    "\n",
    "<!--\n",
    "BEGIN QUESTION\n",
    "name: q1_e\n",
    "manual: true\n",
    "-->"
   ]
  },
  {
   "cell_type": "code",
   "execution_count": null,
   "id": "e1c42465-ae71-4b82-b0f6-8856435fd7d4",
   "metadata": {},
   "outputs": [],
   "source": []
  },
  {
   "cell_type": "markdown",
   "id": "fbd887a7-fc07-43b1-80dd-877abc4c5066",
   "metadata": {},
   "source": [
    "<!-- END QUESTION -->\n",
    "\n",
    "<!-- BEGIN QUESTION -->\n",
    "\n",
    "**Question 1.f.**\n",
    "Reproduce the result tables (one for each of the normal return models) in `event_study_figs.pdf`. You do not need to reproduce the table exactly as presented on the slide, but you should display the numerical results in some readable fashion. In your submission, you must include the code you used to do this.\n",
    "\n",
    "<!--\n",
    "BEGIN QUESTION\n",
    "name: q1_f\n",
    "manual: true\n",
    "-->"
   ]
  },
  {
   "cell_type": "code",
   "execution_count": null,
   "id": "7f9aa1de-4f3d-4ccc-a00d-b22de0e7cc65",
   "metadata": {},
   "outputs": [],
   "source": []
  },
  {
   "cell_type": "markdown",
   "id": "b8087744-643d-4fdd-9e15-693085204dc6",
   "metadata": {},
   "source": [
    "<!-- END QUESTION -->\n",
    "\n",
    "<!-- BEGIN QUESTION -->\n",
    "\n",
    "**Question 1.g.**\n",
    "Finally, reproduce the plots (one for each of the normal return models) in `event_study_figs.pdf` and briefly summarize your overall findings.\n",
    "\n",
    "<!--\n",
    "BEGIN QUESTION\n",
    "name: q1_g\n",
    "manual: true\n",
    "-->"
   ]
  },
  {
   "cell_type": "code",
   "execution_count": null,
   "id": "cd8d0736-e092-4526-85b1-8ba9a552d568",
   "metadata": {},
   "outputs": [],
   "source": []
  },
  {
   "cell_type": "markdown",
   "id": "61902adb-2487-4e73-8a6f-735fbbed5556",
   "metadata": {},
   "source": [
    "  "
   ]
  },
  {
   "cell_type": "markdown",
   "id": "376c62e4-baac-48d1-97f7-22700520ba29",
   "metadata": {},
   "source": [
    "## Problem 2. Mean-Variance Efficient Frontiers\n",
    "\n",
    "Based on the notes in `efficientset_mathematics.pdf` and the weekly return data for 26 stocks in the DJIA (over the period 1988 to 2023), follow the series of steps outlined below to reproduce the following plot:\n",
    "\n",
    "<img src=\"mvfront.png\" width=\"400\"/>\n",
    "\n",
    "The plot is based on annualized returns (in whole %). Since this is weekly data, the annualization factor is 52 for returns and variances (the square root of 52 for standard deviations). The horizontal axis is standard deviation and the vertical axis is mean return.\n"
   ]
  },
  {
   "cell_type": "code",
   "execution_count": null,
   "id": "5dbdba17-0ee1-4d87-b850-1b4142c3703d",
   "metadata": {},
   "outputs": [],
   "source": [
    "rawdjia = pd.read_excel('djia_weeklyret1988-2023.xlsx')\n",
    "rawdjia.tail()"
   ]
  },
  {
   "cell_type": "markdown",
   "id": "b09211b5-2620-432c-94ce-ef10f4eda852",
   "metadata": {},
   "source": [
    "<!-- BEGIN QUESTION -->\n",
    "\n",
    "**Question 2.a.**\n",
    "Recall that for any target portoflio return $\\mu_p$, we can write the variance minimizing portfolio weights as $$w_p = g + h \\mu_p$$ Determine $g$ and $h$.\n",
    "\n",
    "\n",
    "\n",
    "<!--\n",
    "BEGIN QUESTION\n",
    "name: q2_a\n",
    "manual: true\n",
    "-->"
   ]
  },
  {
   "cell_type": "code",
   "execution_count": null,
   "id": "a09e00ea-b30b-4215-9da2-96bffd4c7ab3",
   "metadata": {},
   "outputs": [],
   "source": []
  },
  {
   "cell_type": "markdown",
   "id": "109f78c6-2bd0-48f5-88f8-430be19b51dd",
   "metadata": {},
   "source": [
    "<!-- END QUESTION -->\n",
    "    \n",
    "<!-- BEGIN QUESTION -->\n",
    "\n",
    "**Question 2.b.**\n",
    "Determine the portfolio weights for the global minimum variance portfolio. What is the standard deviation and mean return of the global minimm variance portfolio?\n",
    "\n",
    "\n",
    "\n",
    "<!--\n",
    "BEGIN QUESTION\n",
    "name: q2_b\n",
    "manual: true\n",
    "-->"
   ]
  },
  {
   "cell_type": "code",
   "execution_count": null,
   "id": "9d9c8a46-0923-4969-9010-dc1e26089456",
   "metadata": {},
   "outputs": [],
   "source": []
  },
  {
   "cell_type": "markdown",
   "id": "1697f772-22c7-47ff-ae27-ae64743ab640",
   "metadata": {},
   "source": [
    "<!-- END QUESTION -->\n",
    "    \n",
    "<!-- BEGIN QUESTION -->\n",
    "\n",
    "**Question 2.c.**\n",
    "Using your vectors $g$ and $h$ from **2.a**, let $\\mu_p$ range from 0 to 0.01, in increments of 0.00001, plot the resulting minimum variance frontier of risky assets (in mean return standard deviation space).\n",
    "\n",
    "**Note**: do the calculations using weekly returns, then annualize and multiply by 100 for plotting.\n",
    "\n",
    "<!--\n",
    "BEGIN QUESTION\n",
    "name: q2_c\n",
    "manual: true\n",
    "-->"
   ]
  },
  {
   "cell_type": "code",
   "execution_count": null,
   "id": "ab12464d-5024-4e5d-8092-aa7748083f82",
   "metadata": {},
   "outputs": [],
   "source": []
  },
  {
   "cell_type": "markdown",
   "id": "18001f8f-7851-4906-a23c-7ca15e851a1a",
   "metadata": {},
   "source": [
    "<!-- END QUESTION -->\n",
    "    \n",
    "<!-- BEGIN QUESTION -->\n",
    "\n",
    "**Question 2.d.**\n",
    "Now introduce a risk-free asset with net (annual) simple return of $R_f = 0.04$ (i.e., net (weekly) simple return of $R_f = 0.04/52$). Find the portfolio weights for the tangency portfolio. What is the standard deviation and mean return of the tangency portoflio? Identify the tangency portfolio on your plot from **2.c**.\n",
    "\n",
    "<!--\n",
    "BEGIN QUESTION\n",
    "name: q2_d\n",
    "manual: true\n",
    "-->"
   ]
  },
  {
   "cell_type": "code",
   "execution_count": null,
   "id": "58df3dc5-41f1-42cd-9d01-8e8c8c9ffdd2",
   "metadata": {},
   "outputs": [],
   "source": []
  },
  {
   "cell_type": "markdown",
   "id": "9e32bf77-be5b-4fd7-a528-254edc32c2aa",
   "metadata": {},
   "source": [
    "<!-- END QUESTION -->\n",
    "    \n",
    "<!-- BEGIN QUESTION -->\n",
    "\n",
    "**Question 2.e.**\n",
    "Let $\\mu_p$ range from 0.04/52 to 0.01, in increments of 0.000001 and plot the resulting global efficient frontier on your plot from **2.c**.\n",
    "\n",
    "<!--\n",
    "BEGIN QUESTION\n",
    "name: q2_e\n",
    "manual: true\n",
    "-->"
   ]
  },
  {
   "cell_type": "code",
   "execution_count": null,
   "id": "cbcac7bb-c8d5-4153-9291-7918cd29d196",
   "metadata": {},
   "outputs": [],
   "source": []
  },
  {
   "cell_type": "markdown",
   "id": "98111439-8642-441f-86c7-bf39c33f9665",
   "metadata": {},
   "source": [
    "<!-- END QUESTION -->\n",
    "    \n",
    "<!-- BEGIN QUESTION -->\n",
    "\n",
    "**Question 2.f.**\n",
    "Determine the zero-covariance portfolio weights for the tangency portfolio (i.e., the weights of the portfolio that has zero-covariance with the tangency portfolio). What is the standard deviation and mean return of this portfolio? Identify this portfolio on your plot from **2.c**. Verify that the covariance of this portfolio and the tangency portfolio is indeed zero.\n",
    "\n",
    "<!--\n",
    "BEGIN QUESTION\n",
    "name: q2_f\n",
    "manual: true\n",
    "-->"
   ]
  },
  {
   "cell_type": "code",
   "execution_count": null,
   "id": "83a9f07c-e091-4f90-8f6b-a3929ff4d177",
   "metadata": {},
   "outputs": [],
   "source": []
  },
  {
   "cell_type": "markdown",
   "id": "07348097-8e13-4a90-bab3-4bdeb74e7d4a",
   "metadata": {},
   "source": [
    "<!-- END QUESTION -->\n",
    "    \n",
    "<!-- BEGIN QUESTION -->\n",
    "\n",
    "**Question 2.g.**\n",
    "What is the Sharpe ratio of the tangency portfolio? Calculate the Sharpe ratios for all of the portfolios from **2.c**. Verify that they are all less than or equal to the Sharpe ratio of the tangency portfolio.\n",
    "\n",
    "<!--\n",
    "BEGIN QUESTION\n",
    "name: q2_g\n",
    "manual: true\n",
    "-->"
   ]
  },
  {
   "cell_type": "code",
   "execution_count": null,
   "id": "2c8d1689-f67b-49ce-b8d3-b29672de9016",
   "metadata": {},
   "outputs": [],
   "source": []
  },
  {
   "cell_type": "markdown",
   "id": "fb2cd70a-fe02-4472-9a64-623f0eecef2e",
   "metadata": {},
   "source": [
    "## Problem 3. Testing the CAPM\n",
    "\n",
    "In this problem, you will conduct an emprical test of the Sharpe-Lintner version of the CAPM. The test is based on monthly return data for ten portfolios over the period 1974 to 2023 (i.e., 50 years of monthly data). Stock listed on the New York Stock Exchange (NYSE), American Stock Exchange (ASE), and the NASDAQ, are allocated to the portfolios based on market capitalization and are value-weighted within the portfolio. The CRSP value-weighted index (**vwretd**) is used as a proxy for the market portfolio, and the 30-day T-Bill return (**t30ret**) is used for the risk-free return. \n",
    "\n",
    "You will conduct tests for the overall period, two twenty-five year subperiods, and five ten-year subperiods.\n"
   ]
  },
  {
   "cell_type": "code",
   "execution_count": null,
   "id": "b04ffffa-3e4a-431b-b2a8-f8d0c273e1e7",
   "metadata": {},
   "outputs": [],
   "source": [
    "rwidata = pd.read_excel('monthlyindex1974-2023.xlsx')\n",
    "rwidata.head()"
   ]
  },
  {
   "cell_type": "code",
   "execution_count": null,
   "id": "b262b51e-aabe-4b5e-b30a-eaac62d2fa12",
   "metadata": {},
   "outputs": [],
   "source": [
    "rawdata = pd.read_excel('monthly10port1974-2023.xlsx')\n",
    "rawdata.head()"
   ]
  },
  {
   "cell_type": "code",
   "execution_count": null,
   "id": "a5004060-a808-4e77-9732-00dcd9d16e2b",
   "metadata": {},
   "outputs": [],
   "source": [
    "# set up the beginning end ending dates for the study periods\n",
    "begdt = np.array([19740101,19840101,19940101,20040101,20140101,19740101,19990101,19740101])\n",
    "enddt = np.array([19831231,19931231,20031231,20131231,20231231,19981231,20231231,20231231])\n",
    "pdnum = np.arange(1, len(begdt)+1, 1, dtype=int)\n",
    "\n",
    "testpd = pd.DataFrame({'pdnum' : pdnum,\n",
    "                       'begdt' : begdt,\n",
    "                       'enddt' : enddt\n",
    "                      })\n",
    "npd = len(testpd)\n",
    "npd"
   ]
  },
  {
   "cell_type": "markdown",
   "id": "f584fa7a-ac38-47a5-945b-5a5c508453e7",
   "metadata": {},
   "source": [
    "<!-- BEGIN QUESTION -->\n",
    "\n",
    "**Question 3.a.**\n",
    "Using the entire 50-year sample, regress excess returns of each portfolio on the excess (value-weighted) market return and perform tests (at the 1% level of significance) that the intercept is zero. For each portfolio, report the point estimates (of the intercept), $t$-statistics, and whether or not you reject the CAPM.\n",
    "\n",
    "\n",
    "\n",
    "<!--\n",
    "BEGIN QUESTION\n",
    "name: q3_a\n",
    "manual: true\n",
    "-->"
   ]
  },
  {
   "cell_type": "code",
   "execution_count": null,
   "id": "eb4ba45d-1f2d-4473-95fa-f29e1ab36037",
   "metadata": {},
   "outputs": [],
   "source": []
  },
  {
   "cell_type": "markdown",
   "id": "8fb51109-5132-4594-8991-831d19d546a9",
   "metadata": {},
   "source": [
    "<!-- END QUESTION -->\n",
    "\n",
    "<!-- BEGIN QUESTION -->\n",
    "\n",
    "**Question 3.b.**\n",
    "For each of the two 25 year subperiods, regress excess returns of each portfolio on the excess (value-weighted) market return and perform tests (at the 1% level of significance) that the intercept is zero. For each portfolio, report the point estimates (of the intercept), $t$-statistics, and whether or not you reject the CAPM in each subperiod.\n",
    "\n",
    "\n",
    "\n",
    "<!--\n",
    "BEGIN QUESTION\n",
    "name: q3_b\n",
    "manual: true\n",
    "-->"
   ]
  },
  {
   "cell_type": "code",
   "execution_count": null,
   "id": "b0a71034-05d0-45e8-b7ba-615bba0e247f",
   "metadata": {},
   "outputs": [],
   "source": []
  },
  {
   "cell_type": "markdown",
   "id": "907e8935-9141-4510-ade1-66a572bec8a5",
   "metadata": {},
   "source": [
    "<!-- END QUESTION -->\n",
    "\n",
    "<!-- BEGIN QUESTION -->\n",
    "\n",
    "**Question 3.c.**\n",
    "For the entire 50-year period, each of the 25-year subperiods, and each of the 10-year subperiods, jointly test (at the 1% level of significance) that the intercepts for all ten portfolios are zero using the $F$-test statistic $J_1$. For the overall period and each subperiod, report the $F$-test statistic $J_1$ and their $p$-values, and whether or not you reject the CAPM in the overall period and each subperiod.\n",
    "\n",
    "<!--\n",
    "BEGIN QUESTION\n",
    "name: q3_c\n",
    "manual: true\n",
    "-->"
   ]
  },
  {
   "cell_type": "code",
   "execution_count": null,
   "id": "b88e0aee-6aad-4767-9e80-1ebf93cbef5a",
   "metadata": {},
   "outputs": [],
   "source": []
  },
  {
   "cell_type": "markdown",
   "id": "a07e28d4-3423-4266-9fce-0e8cba612db1",
   "metadata": {},
   "source": [
    "## Submission\n",
    "\n",
    "Make sure you have run all cells in your notebook in order before running the cell below, so that all images/graphs appear in the output. The cell below will generate a pdf file for you to submit. **Please save before exporting!**"
   ]
  },
  {
   "cell_type": "code",
   "execution_count": null,
   "id": "93478d8c-5876-4058-a6cc-f3b685187dfa",
   "metadata": {},
   "outputs": [],
   "source": [
    "# Save your notebook first, then run this cell to export your submission.\n",
    "grader.to_pdf(pagebreaks=False, display_link=True)"
   ]
  }
 ],
 "metadata": {
  "kernelspec": {
   "display_name": "Python 3 (ipykernel)",
   "language": "python",
   "name": "python3"
  },
  "language_info": {
   "codemirror_mode": {
    "name": "ipython",
    "version": 3
   },
   "file_extension": ".py",
   "mimetype": "text/x-python",
   "name": "python",
   "nbconvert_exporter": "python",
   "pygments_lexer": "ipython3",
   "version": "3.9.15"
  }
 },
 "nbformat": 4,
 "nbformat_minor": 5
}
